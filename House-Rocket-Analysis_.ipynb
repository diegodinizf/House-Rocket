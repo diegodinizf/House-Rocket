{
 "cells": [
  {
   "cell_type": "markdown",
   "metadata": {},
   "source": [
    "# 0.0 INTRODUCTION"
   ]
  },
  {
   "cell_type": "markdown",
   "metadata": {},
   "source": [
    "This project adresses a fictional company, called House Rocket, that works reselling properties in King County (WA).\n",
    "\n",
    "The company's CEO wants to know a strategy to generate profits for the next year, so they asked to create a analysis based on a business scenario that he brought."
   ]
  },
  {
   "cell_type": "markdown",
   "metadata": {},
   "source": [
    "## 0.1 Business Scenario"
   ]
  },
  {
   "cell_type": "markdown",
   "metadata": {},
   "source": [
    "1. The House Rocket's CEO wants to know which houses the company shall buy and their prices\n",
    "\n",
    "2. The CEO also wants to know when the company shall sell them and for what price\n",
    "\n",
    "3. Should House Rocket do a house renovation to raise the sale price? What could be the renovation suggestions? How much is the price incresing for each renovation option?"
   ]
  },
  {
   "cell_type": "markdown",
   "metadata": {},
   "source": [
    "## 0.2 Hypotheses"
   ]
  },
  {
   "cell_type": "markdown",
   "metadata": {},
   "source": [
    "These topics are created to help solve the questions"
   ]
  },
  {
   "cell_type": "markdown",
   "metadata": {},
   "source": [
    "1. Waterfront properties  are 20% more expensive, on average.\n",
    "2. Properties with built year prior to 1955 are 50% cheaper, on average.\n",
    "3. Properties without a basement are 40% bigger than the properties with basement.\n",
    "4. The YoY (Year over Year) price is increasing in 10%.\n",
    "5. Properties with 3 bathrooms have a MoM (Month over Month) price increasing in 15%. \n",
    "6. Properties sell 20% more in summer than in winter.\n",
    "7. In the winter, properties prices tend to be 20% lower than in summer\n",
    "8. The number of bedrooms and bathrooms of a property has more effect on price than its total living area \n",
    "9. Properties renovated after 2005 have their prices higher than the properties which were renovated before 2005 or than have never been renovated\n",
    "10. Properties that have their total living area smaller than the 15 closest properties are cheaper, on average."
   ]
  },
  {
   "cell_type": "markdown",
   "metadata": {},
   "source": [
    "# 1.0 IMPORT DATA"
   ]
  },
  {
   "cell_type": "code",
   "execution_count": 499,
   "metadata": {},
   "outputs": [],
   "source": [
    "import pandas as pd\n",
    "import numpy as np\n",
    "import matplotlib.pyplot as plt\n",
    "import seaborn as sns\n",
    "import plotly.graph_objects as go\n",
    "\n",
    "from datetime import datetime\n",
    "from matplotlib import gridspec\n",
    "from IPython.display import Image\n",
    "from IPython.display import HTML "
   ]
  },
  {
   "cell_type": "markdown",
   "metadata": {},
   "source": [
    "## 1.1 Functions"
   ]
  },
  {
   "cell_type": "code",
   "execution_count": 500,
   "metadata": {},
   "outputs": [],
   "source": [
    "def jupyter_settings():\n",
    "    %matplotlib inline\n",
    "    \n",
    "    plt.style.use( 'bmh' )\n",
    "    plt.rcParams['figure.figsize'] = [25, 12]\n",
    "    plt.rcParams['font.size'] = 25\n",
    "    #display( HTML( '<style>.container { width:100% !important; }</style>') )\n",
    "    pd.options.display.max_columns = None\n",
    "    pd.options.display.max_rows = None\n",
    "    pd.set_option( 'display.expand_frame_repr', False )\n",
    "    sns.set()\n",
    "\n",
    "def sc_notation_off():\n",
    "    pd.set_option('display.float_format', lambda x: '%.1f' % x)\n",
    "    return None\n",
    "\n",
    "jupyter_settings()\n",
    "sc_notation_off()"
   ]
  },
  {
   "cell_type": "markdown",
   "metadata": {},
   "source": [
    "## 1.2 Extraction"
   ]
  },
  {
   "cell_type": "code",
   "execution_count": 501,
   "metadata": {},
   "outputs": [],
   "source": [
    "df_raw = pd.read_csv(\"kc_house_data.csv\")"
   ]
  },
  {
   "cell_type": "code",
   "execution_count": 502,
   "metadata": {},
   "outputs": [
    {
     "data": {
      "text/html": [
       "<div>\n",
       "<style scoped>\n",
       "    .dataframe tbody tr th:only-of-type {\n",
       "        vertical-align: middle;\n",
       "    }\n",
       "\n",
       "    .dataframe tbody tr th {\n",
       "        vertical-align: top;\n",
       "    }\n",
       "\n",
       "    .dataframe thead th {\n",
       "        text-align: right;\n",
       "    }\n",
       "</style>\n",
       "<table border=\"1\" class=\"dataframe\">\n",
       "  <thead>\n",
       "    <tr style=\"text-align: right;\">\n",
       "      <th></th>\n",
       "      <th>9400</th>\n",
       "      <th>8130</th>\n",
       "      <th>8474</th>\n",
       "      <th>7081</th>\n",
       "      <th>10310</th>\n",
       "      <th>7687</th>\n",
       "      <th>5432</th>\n",
       "      <th>44</th>\n",
       "      <th>17</th>\n",
       "      <th>13739</th>\n",
       "    </tr>\n",
       "  </thead>\n",
       "  <tbody>\n",
       "    <tr>\n",
       "      <th>id</th>\n",
       "      <td>2407000145</td>\n",
       "      <td>7276100145</td>\n",
       "      <td>4139490210</td>\n",
       "      <td>6072500050</td>\n",
       "      <td>9475710060</td>\n",
       "      <td>3905100210</td>\n",
       "      <td>2568200290</td>\n",
       "      <td>1432701230</td>\n",
       "      <td>6865200140</td>\n",
       "      <td>6802210330</td>\n",
       "    </tr>\n",
       "    <tr>\n",
       "      <th>date</th>\n",
       "      <td>20150120T000000</td>\n",
       "      <td>20140930T000000</td>\n",
       "      <td>20140730T000000</td>\n",
       "      <td>20140729T000000</td>\n",
       "      <td>20140613T000000</td>\n",
       "      <td>20140723T000000</td>\n",
       "      <td>20140826T000000</td>\n",
       "      <td>20140729T000000</td>\n",
       "      <td>20140529T000000</td>\n",
       "      <td>20150429T000000</td>\n",
       "    </tr>\n",
       "    <tr>\n",
       "      <th>price</th>\n",
       "      <td>197200.0</td>\n",
       "      <td>344950.0</td>\n",
       "      <td>1285000.0</td>\n",
       "      <td>560000.0</td>\n",
       "      <td>370000.0</td>\n",
       "      <td>449950.0</td>\n",
       "      <td>762500.0</td>\n",
       "      <td>309000.0</td>\n",
       "      <td>485000.0</td>\n",
       "      <td>270000.0</td>\n",
       "    </tr>\n",
       "    <tr>\n",
       "      <th>bedrooms</th>\n",
       "      <td>3</td>\n",
       "      <td>3</td>\n",
       "      <td>4</td>\n",
       "      <td>5</td>\n",
       "      <td>4</td>\n",
       "      <td>3</td>\n",
       "      <td>4</td>\n",
       "      <td>3</td>\n",
       "      <td>4</td>\n",
       "      <td>3</td>\n",
       "    </tr>\n",
       "    <tr>\n",
       "      <th>bathrooms</th>\n",
       "      <td>1.0</td>\n",
       "      <td>2.0</td>\n",
       "      <td>3.5</td>\n",
       "      <td>2.5</td>\n",
       "      <td>2.5</td>\n",
       "      <td>2.5</td>\n",
       "      <td>2.5</td>\n",
       "      <td>1.0</td>\n",
       "      <td>1.0</td>\n",
       "      <td>2.5</td>\n",
       "    </tr>\n",
       "    <tr>\n",
       "      <th>sqft_living</th>\n",
       "      <td>1140</td>\n",
       "      <td>1470</td>\n",
       "      <td>4080</td>\n",
       "      <td>2880</td>\n",
       "      <td>2220</td>\n",
       "      <td>1530</td>\n",
       "      <td>3150</td>\n",
       "      <td>1280</td>\n",
       "      <td>1600</td>\n",
       "      <td>1430</td>\n",
       "    </tr>\n",
       "    <tr>\n",
       "      <th>sqft_lot</th>\n",
       "      <td>8775</td>\n",
       "      <td>6950</td>\n",
       "      <td>14450</td>\n",
       "      <td>9000</td>\n",
       "      <td>5338</td>\n",
       "      <td>3840</td>\n",
       "      <td>5979</td>\n",
       "      <td>9656</td>\n",
       "      <td>4300</td>\n",
       "      <td>8470</td>\n",
       "    </tr>\n",
       "    <tr>\n",
       "      <th>floors</th>\n",
       "      <td>1.0</td>\n",
       "      <td>1.0</td>\n",
       "      <td>2.0</td>\n",
       "      <td>1.0</td>\n",
       "      <td>2.0</td>\n",
       "      <td>2.0</td>\n",
       "      <td>2.0</td>\n",
       "      <td>1.0</td>\n",
       "      <td>1.5</td>\n",
       "      <td>1.0</td>\n",
       "    </tr>\n",
       "    <tr>\n",
       "      <th>waterfront</th>\n",
       "      <td>0</td>\n",
       "      <td>0</td>\n",
       "      <td>0</td>\n",
       "      <td>0</td>\n",
       "      <td>0</td>\n",
       "      <td>0</td>\n",
       "      <td>0</td>\n",
       "      <td>0</td>\n",
       "      <td>0</td>\n",
       "      <td>0</td>\n",
       "    </tr>\n",
       "    <tr>\n",
       "      <th>view</th>\n",
       "      <td>0</td>\n",
       "      <td>0</td>\n",
       "      <td>2</td>\n",
       "      <td>0</td>\n",
       "      <td>0</td>\n",
       "      <td>0</td>\n",
       "      <td>0</td>\n",
       "      <td>0</td>\n",
       "      <td>0</td>\n",
       "      <td>0</td>\n",
       "    </tr>\n",
       "    <tr>\n",
       "      <th>condition</th>\n",
       "      <td>3</td>\n",
       "      <td>5</td>\n",
       "      <td>3</td>\n",
       "      <td>5</td>\n",
       "      <td>3</td>\n",
       "      <td>3</td>\n",
       "      <td>3</td>\n",
       "      <td>4</td>\n",
       "      <td>4</td>\n",
       "      <td>3</td>\n",
       "    </tr>\n",
       "    <tr>\n",
       "      <th>grade</th>\n",
       "      <td>6</td>\n",
       "      <td>6</td>\n",
       "      <td>12</td>\n",
       "      <td>8</td>\n",
       "      <td>7</td>\n",
       "      <td>8</td>\n",
       "      <td>9</td>\n",
       "      <td>6</td>\n",
       "      <td>7</td>\n",
       "      <td>7</td>\n",
       "    </tr>\n",
       "    <tr>\n",
       "      <th>sqft_above</th>\n",
       "      <td>990.0</td>\n",
       "      <td>1470.0</td>\n",
       "      <td>3210.0</td>\n",
       "      <td>1440.0</td>\n",
       "      <td>2220.0</td>\n",
       "      <td>1530.0</td>\n",
       "      <td>3150.0</td>\n",
       "      <td>920.0</td>\n",
       "      <td>NaN</td>\n",
       "      <td>1190.0</td>\n",
       "    </tr>\n",
       "    <tr>\n",
       "      <th>sqft_basement</th>\n",
       "      <td>150</td>\n",
       "      <td>0</td>\n",
       "      <td>870</td>\n",
       "      <td>1440</td>\n",
       "      <td>0</td>\n",
       "      <td>0</td>\n",
       "      <td>0</td>\n",
       "      <td>360</td>\n",
       "      <td>0</td>\n",
       "      <td>240</td>\n",
       "    </tr>\n",
       "    <tr>\n",
       "      <th>yr_built</th>\n",
       "      <td>1942</td>\n",
       "      <td>1932</td>\n",
       "      <td>1998</td>\n",
       "      <td>1966</td>\n",
       "      <td>2001</td>\n",
       "      <td>1994</td>\n",
       "      <td>2005</td>\n",
       "      <td>1959</td>\n",
       "      <td>1916</td>\n",
       "      <td>1992</td>\n",
       "    </tr>\n",
       "    <tr>\n",
       "      <th>yr_renovated</th>\n",
       "      <td>0</td>\n",
       "      <td>0</td>\n",
       "      <td>0</td>\n",
       "      <td>0</td>\n",
       "      <td>0</td>\n",
       "      <td>0</td>\n",
       "      <td>0</td>\n",
       "      <td>0</td>\n",
       "      <td>0</td>\n",
       "      <td>0</td>\n",
       "    </tr>\n",
       "    <tr>\n",
       "      <th>zipcode</th>\n",
       "      <td>98146</td>\n",
       "      <td>98133</td>\n",
       "      <td>98006</td>\n",
       "      <td>98006</td>\n",
       "      <td>98059</td>\n",
       "      <td>98029</td>\n",
       "      <td>98052</td>\n",
       "      <td>98058</td>\n",
       "      <td>98103</td>\n",
       "      <td>98022</td>\n",
       "    </tr>\n",
       "    <tr>\n",
       "      <th>lat</th>\n",
       "      <td>47.5</td>\n",
       "      <td>47.8</td>\n",
       "      <td>47.6</td>\n",
       "      <td>47.5</td>\n",
       "      <td>47.5</td>\n",
       "      <td>47.6</td>\n",
       "      <td>47.7</td>\n",
       "      <td>47.4</td>\n",
       "      <td>47.7</td>\n",
       "      <td>47.2</td>\n",
       "    </tr>\n",
       "    <tr>\n",
       "      <th>long</th>\n",
       "      <td>-122.3</td>\n",
       "      <td>-122.3</td>\n",
       "      <td>-122.1</td>\n",
       "      <td>-122.2</td>\n",
       "      <td>-122.2</td>\n",
       "      <td>-122.0</td>\n",
       "      <td>-122.1</td>\n",
       "      <td>-122.2</td>\n",
       "      <td>-122.3</td>\n",
       "      <td>-122.0</td>\n",
       "    </tr>\n",
       "    <tr>\n",
       "      <th>sqft_living15</th>\n",
       "      <td>1300</td>\n",
       "      <td>1660</td>\n",
       "      <td>4080</td>\n",
       "      <td>2010</td>\n",
       "      <td>2220</td>\n",
       "      <td>1720</td>\n",
       "      <td>3150</td>\n",
       "      <td>1340</td>\n",
       "      <td>1610</td>\n",
       "      <td>1670</td>\n",
       "    </tr>\n",
       "    <tr>\n",
       "      <th>sqft_lot15</th>\n",
       "      <td>8775</td>\n",
       "      <td>5065</td>\n",
       "      <td>12114</td>\n",
       "      <td>9000</td>\n",
       "      <td>5338</td>\n",
       "      <td>3985</td>\n",
       "      <td>6595</td>\n",
       "      <td>8808</td>\n",
       "      <td>4300</td>\n",
       "      <td>8418</td>\n",
       "    </tr>\n",
       "  </tbody>\n",
       "</table>\n",
       "</div>"
      ],
      "text/plain": [
       "                         9400             8130             8474             7081             10310            7687             5432             44               17               13739\n",
       "id                  2407000145       7276100145       4139490210       6072500050       9475710060       3905100210       2568200290       1432701230       6865200140       6802210330\n",
       "date           20150120T000000  20140930T000000  20140730T000000  20140729T000000  20140613T000000  20140723T000000  20140826T000000  20140729T000000  20140529T000000  20150429T000000\n",
       "price                 197200.0         344950.0        1285000.0         560000.0         370000.0         449950.0         762500.0         309000.0         485000.0         270000.0\n",
       "bedrooms                     3                3                4                5                4                3                4                3                4                3\n",
       "bathrooms                  1.0              2.0              3.5              2.5              2.5              2.5              2.5              1.0              1.0              2.5\n",
       "sqft_living               1140             1470             4080             2880             2220             1530             3150             1280             1600             1430\n",
       "sqft_lot                  8775             6950            14450             9000             5338             3840             5979             9656             4300             8470\n",
       "floors                     1.0              1.0              2.0              1.0              2.0              2.0              2.0              1.0              1.5              1.0\n",
       "waterfront                   0                0                0                0                0                0                0                0                0                0\n",
       "view                         0                0                2                0                0                0                0                0                0                0\n",
       "condition                    3                5                3                5                3                3                3                4                4                3\n",
       "grade                        6                6               12                8                7                8                9                6                7                7\n",
       "sqft_above               990.0           1470.0           3210.0           1440.0           2220.0           1530.0           3150.0            920.0              NaN           1190.0\n",
       "sqft_basement              150                0              870             1440                0                0                0              360                0              240\n",
       "yr_built                  1942             1932             1998             1966             2001             1994             2005             1959             1916             1992\n",
       "yr_renovated                 0                0                0                0                0                0                0                0                0                0\n",
       "zipcode                  98146            98133            98006            98006            98059            98029            98052            98058            98103            98022\n",
       "lat                       47.5             47.8             47.6             47.5             47.5             47.6             47.7             47.4             47.7             47.2\n",
       "long                    -122.3           -122.3           -122.1           -122.2           -122.2           -122.0           -122.1           -122.2           -122.3           -122.0\n",
       "sqft_living15             1300             1660             4080             2010             2220             1720             3150             1340             1610             1670\n",
       "sqft_lot15                8775             5065            12114             9000             5338             3985             6595             8808             4300             8418"
      ]
     },
     "execution_count": 502,
     "metadata": {},
     "output_type": "execute_result"
    }
   ],
   "source": [
    "df_raw.sample(10).T"
   ]
  },
  {
   "cell_type": "markdown",
   "metadata": {},
   "source": [
    "# 2.0 TRANSFORM DATA"
   ]
  },
  {
   "cell_type": "code",
   "execution_count": 503,
   "metadata": {},
   "outputs": [],
   "source": [
    "df1 = df_raw.copy()"
   ]
  },
  {
   "cell_type": "markdown",
   "metadata": {},
   "source": [
    "## 2.1 Data description"
   ]
  },
  {
   "cell_type": "code",
   "execution_count": 504,
   "metadata": {},
   "outputs": [
    {
     "name": "stdout",
     "output_type": "stream",
     "text": [
      "Number of rows: 21613\n",
      "Number of columns: 21\n"
     ]
    }
   ],
   "source": [
    "# printing the number of rows and the number of columns with the format() method \n",
    "print('Number of rows: {}'.format(df1.shape[0]))\n",
    "print('Number of columns: {}'.format(df1.shape[1]))"
   ]
  },
  {
   "cell_type": "markdown",
   "metadata": {},
   "source": [
    "## 2.1 Data types"
   ]
  },
  {
   "cell_type": "code",
   "execution_count": 505,
   "metadata": {},
   "outputs": [
    {
     "data": {
      "text/plain": [
       "id                        int64\n",
       "date             datetime64[ns]\n",
       "price                   float64\n",
       "bedrooms                  int64\n",
       "bathrooms               float64\n",
       "sqft_living               int64\n",
       "sqft_lot                  int64\n",
       "floors                  float64\n",
       "waterfront                int64\n",
       "view                      int64\n",
       "condition                 int64\n",
       "grade                     int64\n",
       "sqft_above              float64\n",
       "sqft_basement             int64\n",
       "yr_built                  int64\n",
       "yr_renovated              int64\n",
       "zipcode                   int64\n",
       "lat                     float64\n",
       "long                    float64\n",
       "sqft_living15             int64\n",
       "sqft_lot15                int64\n",
       "dtype: object"
      ]
     },
     "execution_count": 505,
     "metadata": {},
     "output_type": "execute_result"
    }
   ],
   "source": [
    "# date is object\n",
    "# must change the date type\n",
    "df1['date'] = pd.to_datetime(df1['date'])\n",
    "df1.dtypes"
   ]
  },
  {
   "cell_type": "markdown",
   "metadata": {},
   "source": [
    "## 2.2 Check NA"
   ]
  },
  {
   "cell_type": "code",
   "execution_count": 506,
   "metadata": {},
   "outputs": [
    {
     "data": {
      "text/plain": [
       "sqft_above       2\n",
       "id               0\n",
       "grade            0\n",
       "sqft_living15    0\n",
       "long             0\n",
       "lat              0\n",
       "zipcode          0\n",
       "yr_renovated     0\n",
       "yr_built         0\n",
       "sqft_basement    0\n",
       "condition        0\n",
       "date             0\n",
       "view             0\n",
       "waterfront       0\n",
       "floors           0\n",
       "sqft_lot         0\n",
       "sqft_living      0\n",
       "bathrooms        0\n",
       "bedrooms         0\n",
       "price            0\n",
       "sqft_lot15       0\n",
       "dtype: int64"
      ]
     },
     "execution_count": 506,
     "metadata": {},
     "output_type": "execute_result"
    }
   ],
   "source": [
    "# there are 2 'NA' values in 'sqft_above' column\n",
    "df1.isna().sum().sort_values(ascending=False)"
   ]
  },
  {
   "cell_type": "markdown",
   "metadata": {},
   "source": [
    "## 2.4 Fillout NA"
   ]
  },
  {
   "cell_type": "code",
   "execution_count": 507,
   "metadata": {},
   "outputs": [
    {
     "data": {
      "text/html": [
       "<div>\n",
       "<style scoped>\n",
       "    .dataframe tbody tr th:only-of-type {\n",
       "        vertical-align: middle;\n",
       "    }\n",
       "\n",
       "    .dataframe tbody tr th {\n",
       "        vertical-align: top;\n",
       "    }\n",
       "\n",
       "    .dataframe thead th {\n",
       "        text-align: right;\n",
       "    }\n",
       "</style>\n",
       "<table border=\"1\" class=\"dataframe\">\n",
       "  <thead>\n",
       "    <tr style=\"text-align: right;\">\n",
       "      <th></th>\n",
       "      <th>id</th>\n",
       "      <th>date</th>\n",
       "      <th>price</th>\n",
       "      <th>bedrooms</th>\n",
       "      <th>bathrooms</th>\n",
       "      <th>sqft_living</th>\n",
       "      <th>sqft_lot</th>\n",
       "      <th>floors</th>\n",
       "      <th>waterfront</th>\n",
       "      <th>view</th>\n",
       "      <th>condition</th>\n",
       "      <th>grade</th>\n",
       "      <th>sqft_above</th>\n",
       "      <th>sqft_basement</th>\n",
       "      <th>yr_built</th>\n",
       "      <th>yr_renovated</th>\n",
       "      <th>zipcode</th>\n",
       "      <th>lat</th>\n",
       "      <th>long</th>\n",
       "      <th>sqft_living15</th>\n",
       "      <th>sqft_lot15</th>\n",
       "    </tr>\n",
       "  </thead>\n",
       "  <tbody>\n",
       "    <tr>\n",
       "      <th>10</th>\n",
       "      <td>1736800520</td>\n",
       "      <td>2015-04-03</td>\n",
       "      <td>662500.0</td>\n",
       "      <td>3</td>\n",
       "      <td>2.5</td>\n",
       "      <td>3560</td>\n",
       "      <td>9796</td>\n",
       "      <td>1.0</td>\n",
       "      <td>0</td>\n",
       "      <td>0</td>\n",
       "      <td>3</td>\n",
       "      <td>8</td>\n",
       "      <td>NaN</td>\n",
       "      <td>1700</td>\n",
       "      <td>1965</td>\n",
       "      <td>0</td>\n",
       "      <td>98007</td>\n",
       "      <td>47.6</td>\n",
       "      <td>-122.1</td>\n",
       "      <td>2210</td>\n",
       "      <td>8925</td>\n",
       "    </tr>\n",
       "    <tr>\n",
       "      <th>17</th>\n",
       "      <td>6865200140</td>\n",
       "      <td>2014-05-29</td>\n",
       "      <td>485000.0</td>\n",
       "      <td>4</td>\n",
       "      <td>1.0</td>\n",
       "      <td>1600</td>\n",
       "      <td>4300</td>\n",
       "      <td>1.5</td>\n",
       "      <td>0</td>\n",
       "      <td>0</td>\n",
       "      <td>4</td>\n",
       "      <td>7</td>\n",
       "      <td>NaN</td>\n",
       "      <td>0</td>\n",
       "      <td>1916</td>\n",
       "      <td>0</td>\n",
       "      <td>98103</td>\n",
       "      <td>47.7</td>\n",
       "      <td>-122.3</td>\n",
       "      <td>1610</td>\n",
       "      <td>4300</td>\n",
       "    </tr>\n",
       "  </tbody>\n",
       "</table>\n",
       "</div>"
      ],
      "text/plain": [
       "            id       date    price  bedrooms  bathrooms  sqft_living  sqft_lot  floors  waterfront  view  condition  grade  sqft_above  sqft_basement  yr_built  yr_renovated  zipcode  lat   long  sqft_living15  sqft_lot15\n",
       "10  1736800520 2015-04-03 662500.0         3        2.5         3560      9796     1.0           0     0          3      8         NaN           1700      1965             0    98007 47.6 -122.1           2210        8925\n",
       "17  6865200140 2014-05-29 485000.0         4        1.0         1600      4300     1.5           0     0          4      7         NaN              0      1916             0    98103 47.7 -122.3           1610        4300"
      ]
     },
     "metadata": {},
     "output_type": "display_data"
    }
   ],
   "source": [
    "NA_prop = df1[df1['sqft_above'].isna()]\n",
    "display(NA_prop)"
   ]
  },
  {
   "cell_type": "markdown",
   "metadata": {},
   "source": [
    "The sqft_above 'NA' data belongs to the properties in index 10 and 17"
   ]
  },
  {
   "cell_type": "markdown",
   "metadata": {},
   "source": [
    "Since the sqft_living value is the sum of sqft_basement and sqft_above, the 'NA' values can be filled.\n",
    "\n",
    "In this case, the math operation will be done for the entire column"
   ]
  },
  {
   "cell_type": "code",
   "execution_count": 508,
   "metadata": {},
   "outputs": [],
   "source": [
    "df1['sqft_above'] = df1['sqft_living'] - df1['sqft_basement']"
   ]
  },
  {
   "cell_type": "code",
   "execution_count": 509,
   "metadata": {},
   "outputs": [
    {
     "data": {
      "text/html": [
       "<div>\n",
       "<style scoped>\n",
       "    .dataframe tbody tr th:only-of-type {\n",
       "        vertical-align: middle;\n",
       "    }\n",
       "\n",
       "    .dataframe tbody tr th {\n",
       "        vertical-align: top;\n",
       "    }\n",
       "\n",
       "    .dataframe thead th {\n",
       "        text-align: right;\n",
       "    }\n",
       "</style>\n",
       "<table border=\"1\" class=\"dataframe\">\n",
       "  <thead>\n",
       "    <tr style=\"text-align: right;\">\n",
       "      <th></th>\n",
       "      <th>id</th>\n",
       "      <th>sqft_living</th>\n",
       "      <th>sqft_basement</th>\n",
       "      <th>sqft_above</th>\n",
       "    </tr>\n",
       "  </thead>\n",
       "  <tbody>\n",
       "    <tr>\n",
       "      <th>10</th>\n",
       "      <td>1736800520</td>\n",
       "      <td>3560</td>\n",
       "      <td>1700</td>\n",
       "      <td>1860</td>\n",
       "    </tr>\n",
       "    <tr>\n",
       "      <th>17</th>\n",
       "      <td>6865200140</td>\n",
       "      <td>1600</td>\n",
       "      <td>0</td>\n",
       "      <td>1600</td>\n",
       "    </tr>\n",
       "  </tbody>\n",
       "</table>\n",
       "</div>"
      ],
      "text/plain": [
       "            id  sqft_living  sqft_basement  sqft_above\n",
       "10  1736800520         3560           1700        1860\n",
       "17  6865200140         1600              0        1600"
      ]
     },
     "execution_count": 509,
     "metadata": {},
     "output_type": "execute_result"
    }
   ],
   "source": [
    "# check the if the 'NA' values were filled with the correct values\n",
    "df1[['id','sqft_living','sqft_basement','sqft_above']].iloc[[10,17]]"
   ]
  },
  {
   "cell_type": "markdown",
   "metadata": {},
   "source": [
    "## 2.5 Drop duplicates"
   ]
  },
  {
   "cell_type": "code",
   "execution_count": 510,
   "metadata": {},
   "outputs": [],
   "source": [
    "df1 = df1.sort_values('date', ascending=False)\n",
    "df1 = df1.drop_duplicates('id')"
   ]
  },
  {
   "cell_type": "markdown",
   "metadata": {},
   "source": [
    "## 2.6 Descriptive statistical"
   ]
  },
  {
   "cell_type": "markdown",
   "metadata": {},
   "source": [
    "- Central tendency: average, median\n",
    "- Dispersion: variance, standard deviation, amplitude\n",
    "\n",
    "This analysis will be made for the whole data"
   ]
  },
  {
   "cell_type": "code",
   "execution_count": 511,
   "metadata": {},
   "outputs": [],
   "source": [
    "attributes = df1.select_dtypes(exclude=['datetime'])"
   ]
  },
  {
   "cell_type": "code",
   "execution_count": 512,
   "metadata": {},
   "outputs": [
    {
     "data": {
      "text/html": [
       "<div>\n",
       "<style scoped>\n",
       "    .dataframe tbody tr th:only-of-type {\n",
       "        vertical-align: middle;\n",
       "    }\n",
       "\n",
       "    .dataframe tbody tr th {\n",
       "        vertical-align: top;\n",
       "    }\n",
       "\n",
       "    .dataframe thead th {\n",
       "        text-align: right;\n",
       "    }\n",
       "</style>\n",
       "<table border=\"1\" class=\"dataframe\">\n",
       "  <thead>\n",
       "    <tr style=\"text-align: right;\">\n",
       "      <th></th>\n",
       "      <th>attributes</th>\n",
       "      <th>mean</th>\n",
       "      <th>median</th>\n",
       "      <th>std</th>\n",
       "      <th>skew</th>\n",
       "      <th>kurtosis</th>\n",
       "      <th>min</th>\n",
       "      <th>max</th>\n",
       "      <th>range</th>\n",
       "    </tr>\n",
       "  </thead>\n",
       "  <tbody>\n",
       "    <tr>\n",
       "      <th>0</th>\n",
       "      <td>id</td>\n",
       "      <td>4580765328.2</td>\n",
       "      <td>3904921185.0</td>\n",
       "      <td>2876589633.7</td>\n",
       "      <td>0.2</td>\n",
       "      <td>-1.3</td>\n",
       "      <td>1000102.0</td>\n",
       "      <td>9900000190.0</td>\n",
       "      <td>9899000088.0</td>\n",
       "    </tr>\n",
       "    <tr>\n",
       "      <th>1</th>\n",
       "      <td>price</td>\n",
       "      <td>541650.0</td>\n",
       "      <td>450000.0</td>\n",
       "      <td>367314.9</td>\n",
       "      <td>4.0</td>\n",
       "      <td>34.7</td>\n",
       "      <td>75000.0</td>\n",
       "      <td>7700000.0</td>\n",
       "      <td>7625000.0</td>\n",
       "    </tr>\n",
       "    <tr>\n",
       "      <th>2</th>\n",
       "      <td>bedrooms</td>\n",
       "      <td>3.4</td>\n",
       "      <td>3.0</td>\n",
       "      <td>0.9</td>\n",
       "      <td>2.0</td>\n",
       "      <td>49.6</td>\n",
       "      <td>0.0</td>\n",
       "      <td>33.0</td>\n",
       "      <td>33.0</td>\n",
       "    </tr>\n",
       "    <tr>\n",
       "      <th>3</th>\n",
       "      <td>bathrooms</td>\n",
       "      <td>2.1</td>\n",
       "      <td>2.2</td>\n",
       "      <td>0.8</td>\n",
       "      <td>0.5</td>\n",
       "      <td>1.3</td>\n",
       "      <td>0.0</td>\n",
       "      <td>8.0</td>\n",
       "      <td>8.0</td>\n",
       "    </tr>\n",
       "    <tr>\n",
       "      <th>4</th>\n",
       "      <td>sqft_living</td>\n",
       "      <td>2082.7</td>\n",
       "      <td>1920.0</td>\n",
       "      <td>919.1</td>\n",
       "      <td>1.5</td>\n",
       "      <td>5.2</td>\n",
       "      <td>290.0</td>\n",
       "      <td>13540.0</td>\n",
       "      <td>13250.0</td>\n",
       "    </tr>\n",
       "    <tr>\n",
       "      <th>5</th>\n",
       "      <td>sqft_lot</td>\n",
       "      <td>15135.6</td>\n",
       "      <td>7614.0</td>\n",
       "      <td>41538.6</td>\n",
       "      <td>13.0</td>\n",
       "      <td>284.1</td>\n",
       "      <td>520.0</td>\n",
       "      <td>1651359.0</td>\n",
       "      <td>1650839.0</td>\n",
       "    </tr>\n",
       "    <tr>\n",
       "      <th>6</th>\n",
       "      <td>floors</td>\n",
       "      <td>1.5</td>\n",
       "      <td>1.5</td>\n",
       "      <td>0.5</td>\n",
       "      <td>0.6</td>\n",
       "      <td>-0.5</td>\n",
       "      <td>1.0</td>\n",
       "      <td>3.5</td>\n",
       "      <td>2.5</td>\n",
       "    </tr>\n",
       "    <tr>\n",
       "      <th>7</th>\n",
       "      <td>waterfront</td>\n",
       "      <td>0.0</td>\n",
       "      <td>0.0</td>\n",
       "      <td>0.1</td>\n",
       "      <td>11.3</td>\n",
       "      <td>126.5</td>\n",
       "      <td>0.0</td>\n",
       "      <td>1.0</td>\n",
       "      <td>1.0</td>\n",
       "    </tr>\n",
       "    <tr>\n",
       "      <th>8</th>\n",
       "      <td>view</td>\n",
       "      <td>0.2</td>\n",
       "      <td>0.0</td>\n",
       "      <td>0.8</td>\n",
       "      <td>3.4</td>\n",
       "      <td>10.8</td>\n",
       "      <td>0.0</td>\n",
       "      <td>4.0</td>\n",
       "      <td>4.0</td>\n",
       "    </tr>\n",
       "    <tr>\n",
       "      <th>9</th>\n",
       "      <td>condition</td>\n",
       "      <td>3.4</td>\n",
       "      <td>3.0</td>\n",
       "      <td>0.7</td>\n",
       "      <td>1.0</td>\n",
       "      <td>0.5</td>\n",
       "      <td>1.0</td>\n",
       "      <td>5.0</td>\n",
       "      <td>4.0</td>\n",
       "    </tr>\n",
       "    <tr>\n",
       "      <th>10</th>\n",
       "      <td>grade</td>\n",
       "      <td>7.7</td>\n",
       "      <td>7.0</td>\n",
       "      <td>1.2</td>\n",
       "      <td>0.8</td>\n",
       "      <td>1.2</td>\n",
       "      <td>1.0</td>\n",
       "      <td>13.0</td>\n",
       "      <td>12.0</td>\n",
       "    </tr>\n",
       "    <tr>\n",
       "      <th>11</th>\n",
       "      <td>sqft_above</td>\n",
       "      <td>1791.0</td>\n",
       "      <td>1560.0</td>\n",
       "      <td>829.0</td>\n",
       "      <td>1.4</td>\n",
       "      <td>3.4</td>\n",
       "      <td>290.0</td>\n",
       "      <td>9410.0</td>\n",
       "      <td>9120.0</td>\n",
       "    </tr>\n",
       "    <tr>\n",
       "      <th>12</th>\n",
       "      <td>sqft_basement</td>\n",
       "      <td>291.7</td>\n",
       "      <td>0.0</td>\n",
       "      <td>442.8</td>\n",
       "      <td>1.6</td>\n",
       "      <td>2.7</td>\n",
       "      <td>0.0</td>\n",
       "      <td>4820.0</td>\n",
       "      <td>4820.0</td>\n",
       "    </tr>\n",
       "    <tr>\n",
       "      <th>13</th>\n",
       "      <td>yr_built</td>\n",
       "      <td>1971.1</td>\n",
       "      <td>1975.0</td>\n",
       "      <td>29.4</td>\n",
       "      <td>-0.5</td>\n",
       "      <td>-0.7</td>\n",
       "      <td>1900.0</td>\n",
       "      <td>2015.0</td>\n",
       "      <td>115.0</td>\n",
       "    </tr>\n",
       "    <tr>\n",
       "      <th>14</th>\n",
       "      <td>yr_renovated</td>\n",
       "      <td>84.7</td>\n",
       "      <td>0.0</td>\n",
       "      <td>402.4</td>\n",
       "      <td>4.5</td>\n",
       "      <td>18.6</td>\n",
       "      <td>0.0</td>\n",
       "      <td>2015.0</td>\n",
       "      <td>2015.0</td>\n",
       "    </tr>\n",
       "    <tr>\n",
       "      <th>15</th>\n",
       "      <td>zipcode</td>\n",
       "      <td>98077.9</td>\n",
       "      <td>98065.0</td>\n",
       "      <td>53.5</td>\n",
       "      <td>0.4</td>\n",
       "      <td>-0.8</td>\n",
       "      <td>98001.0</td>\n",
       "      <td>98199.0</td>\n",
       "      <td>198.0</td>\n",
       "    </tr>\n",
       "    <tr>\n",
       "      <th>16</th>\n",
       "      <td>lat</td>\n",
       "      <td>47.6</td>\n",
       "      <td>47.6</td>\n",
       "      <td>0.1</td>\n",
       "      <td>-0.5</td>\n",
       "      <td>-0.7</td>\n",
       "      <td>47.2</td>\n",
       "      <td>47.8</td>\n",
       "      <td>0.6</td>\n",
       "    </tr>\n",
       "    <tr>\n",
       "      <th>17</th>\n",
       "      <td>long</td>\n",
       "      <td>-122.2</td>\n",
       "      <td>-122.2</td>\n",
       "      <td>0.1</td>\n",
       "      <td>0.9</td>\n",
       "      <td>1.0</td>\n",
       "      <td>-122.5</td>\n",
       "      <td>-121.3</td>\n",
       "      <td>1.2</td>\n",
       "    </tr>\n",
       "    <tr>\n",
       "      <th>18</th>\n",
       "      <td>sqft_living15</td>\n",
       "      <td>1988.3</td>\n",
       "      <td>1840.0</td>\n",
       "      <td>685.7</td>\n",
       "      <td>1.1</td>\n",
       "      <td>1.6</td>\n",
       "      <td>399.0</td>\n",
       "      <td>6210.0</td>\n",
       "      <td>5811.0</td>\n",
       "    </tr>\n",
       "    <tr>\n",
       "      <th>19</th>\n",
       "      <td>sqft_lot15</td>\n",
       "      <td>12786.0</td>\n",
       "      <td>7620.0</td>\n",
       "      <td>27375.5</td>\n",
       "      <td>9.5</td>\n",
       "      <td>150.3</td>\n",
       "      <td>651.0</td>\n",
       "      <td>871200.0</td>\n",
       "      <td>870549.0</td>\n",
       "    </tr>\n",
       "  </tbody>\n",
       "</table>\n",
       "</div>"
      ],
      "text/plain": [
       "       attributes         mean       median          std  skew  kurtosis       min          max        range\n",
       "0              id 4580765328.2 3904921185.0 2876589633.7   0.2      -1.3 1000102.0 9900000190.0 9899000088.0\n",
       "1           price     541650.0     450000.0     367314.9   4.0      34.7   75000.0    7700000.0    7625000.0\n",
       "2        bedrooms          3.4          3.0          0.9   2.0      49.6       0.0         33.0         33.0\n",
       "3       bathrooms          2.1          2.2          0.8   0.5       1.3       0.0          8.0          8.0\n",
       "4     sqft_living       2082.7       1920.0        919.1   1.5       5.2     290.0      13540.0      13250.0\n",
       "5        sqft_lot      15135.6       7614.0      41538.6  13.0     284.1     520.0    1651359.0    1650839.0\n",
       "6          floors          1.5          1.5          0.5   0.6      -0.5       1.0          3.5          2.5\n",
       "7      waterfront          0.0          0.0          0.1  11.3     126.5       0.0          1.0          1.0\n",
       "8            view          0.2          0.0          0.8   3.4      10.8       0.0          4.0          4.0\n",
       "9       condition          3.4          3.0          0.7   1.0       0.5       1.0          5.0          4.0\n",
       "10          grade          7.7          7.0          1.2   0.8       1.2       1.0         13.0         12.0\n",
       "11     sqft_above       1791.0       1560.0        829.0   1.4       3.4     290.0       9410.0       9120.0\n",
       "12  sqft_basement        291.7          0.0        442.8   1.6       2.7       0.0       4820.0       4820.0\n",
       "13       yr_built       1971.1       1975.0         29.4  -0.5      -0.7    1900.0       2015.0        115.0\n",
       "14   yr_renovated         84.7          0.0        402.4   4.5      18.6       0.0       2015.0       2015.0\n",
       "15        zipcode      98077.9      98065.0         53.5   0.4      -0.8   98001.0      98199.0        198.0\n",
       "16            lat         47.6         47.6          0.1  -0.5      -0.7      47.2         47.8          0.6\n",
       "17           long       -122.2       -122.2          0.1   0.9       1.0    -122.5       -121.3          1.2\n",
       "18  sqft_living15       1988.3       1840.0        685.7   1.1       1.6     399.0       6210.0       5811.0\n",
       "19     sqft_lot15      12786.0       7620.0      27375.5   9.5     150.3     651.0     871200.0     870549.0"
      ]
     },
     "execution_count": 512,
     "metadata": {},
     "output_type": "execute_result"
    }
   ],
   "source": [
    "pd.set_option('display.float_format', lambda x: '%.1f' % x)\n",
    "\n",
    "range_metric = pd.DataFrame(attributes.apply(lambda x: x.max()-x.min()).T.reset_index())\n",
    "range_metric.columns = ['attributes','range']\n",
    "\n",
    "\n",
    "metrics = attributes.agg(['mean','median','std','skew','kurtosis','min','max']).T.reset_index()\n",
    "metrics.columns = ['attributes','mean','median','std','skew','kurtosis','min','max']\n",
    "metrics = pd.merge(metrics, range_metric,how='inner',on='attributes')\n",
    "metrics"
   ]
  },
  {
   "cell_type": "markdown",
   "metadata": {},
   "source": [
    "The table above gives an idea of the tendency and dispersion of data\n",
    "\n",
    "Some points:\n",
    "- Minimum number of bathrooms and bedrooms is 0\n",
    "- Range of number of bedrooms is 33\n"
   ]
  },
  {
   "cell_type": "code",
   "execution_count": 513,
   "metadata": {},
   "outputs": [
    {
     "data": {
      "image/png": "[encoded data removed]",
      "text/plain": [
       "<Figure size 648x360 with 2 Axes>"
      ]
     },
     "metadata": {},
     "output_type": "display_data"
    }
   ],
   "source": [
    "# bedrooms and bathrooms quantity boxplot\n",
    "fig = plt.figure(figsize=(9,5))\n",
    "\n",
    "specs = gridspec.GridSpec(nrows=1,ncols=2, figure=fig)\n",
    "\n",
    "ax1 = fig.add_subplot(specs[0,0])\n",
    "ax2 = fig.add_subplot(specs[0,1])\n",
    "\n",
    "\n",
    "sns.boxplot(y=attributes['bedrooms'], ax=ax1);\n",
    "sns.boxplot(y=attributes['bathrooms'], ax=ax2);"
   ]
  },
  {
   "cell_type": "code",
   "execution_count": 514,
   "metadata": {},
   "outputs": [
    {
     "data": {
      "text/html": [
       "<div>\n",
       "<style scoped>\n",
       "    .dataframe tbody tr th:only-of-type {\n",
       "        vertical-align: middle;\n",
       "    }\n",
       "\n",
       "    .dataframe tbody tr th {\n",
       "        vertical-align: top;\n",
       "    }\n",
       "\n",
       "    .dataframe thead th {\n",
       "        text-align: right;\n",
       "    }\n",
       "</style>\n",
       "<table border=\"1\" class=\"dataframe\">\n",
       "  <thead>\n",
       "    <tr style=\"text-align: right;\">\n",
       "      <th></th>\n",
       "      <th>id</th>\n",
       "      <th>bedrooms</th>\n",
       "      <th>bathrooms</th>\n",
       "      <th>sqft_living</th>\n",
       "    </tr>\n",
       "  </thead>\n",
       "  <tbody>\n",
       "    <tr>\n",
       "      <th>9773</th>\n",
       "      <td>3374500520</td>\n",
       "      <td>0</td>\n",
       "      <td>0.0</td>\n",
       "      <td>2460</td>\n",
       "    </tr>\n",
       "    <tr>\n",
       "      <th>14423</th>\n",
       "      <td>9543000205</td>\n",
       "      <td>0</td>\n",
       "      <td>0.0</td>\n",
       "      <td>844</td>\n",
       "    </tr>\n",
       "    <tr>\n",
       "      <th>12653</th>\n",
       "      <td>7849202299</td>\n",
       "      <td>0</td>\n",
       "      <td>2.5</td>\n",
       "      <td>1490</td>\n",
       "    </tr>\n",
       "    <tr>\n",
       "      <th>1149</th>\n",
       "      <td>3421079032</td>\n",
       "      <td>1</td>\n",
       "      <td>0.0</td>\n",
       "      <td>670</td>\n",
       "    </tr>\n",
       "    <tr>\n",
       "      <th>3119</th>\n",
       "      <td>3918400017</td>\n",
       "      <td>0</td>\n",
       "      <td>0.0</td>\n",
       "      <td>1470</td>\n",
       "    </tr>\n",
       "    <tr>\n",
       "      <th>9854</th>\n",
       "      <td>7849202190</td>\n",
       "      <td>0</td>\n",
       "      <td>0.0</td>\n",
       "      <td>1470</td>\n",
       "    </tr>\n",
       "    <tr>\n",
       "      <th>8477</th>\n",
       "      <td>2569500210</td>\n",
       "      <td>0</td>\n",
       "      <td>2.5</td>\n",
       "      <td>2290</td>\n",
       "    </tr>\n",
       "    <tr>\n",
       "      <th>5832</th>\n",
       "      <td>5702500050</td>\n",
       "      <td>1</td>\n",
       "      <td>0.0</td>\n",
       "      <td>600</td>\n",
       "    </tr>\n",
       "    <tr>\n",
       "      <th>18379</th>\n",
       "      <td>1222029077</td>\n",
       "      <td>0</td>\n",
       "      <td>0.8</td>\n",
       "      <td>384</td>\n",
       "    </tr>\n",
       "    <tr>\n",
       "      <th>4868</th>\n",
       "      <td>6896300380</td>\n",
       "      <td>0</td>\n",
       "      <td>1.0</td>\n",
       "      <td>390</td>\n",
       "    </tr>\n",
       "    <tr>\n",
       "      <th>19452</th>\n",
       "      <td>3980300371</td>\n",
       "      <td>0</td>\n",
       "      <td>0.0</td>\n",
       "      <td>290</td>\n",
       "    </tr>\n",
       "    <tr>\n",
       "      <th>8484</th>\n",
       "      <td>2310060040</td>\n",
       "      <td>0</td>\n",
       "      <td>2.5</td>\n",
       "      <td>1810</td>\n",
       "    </tr>\n",
       "    <tr>\n",
       "      <th>10481</th>\n",
       "      <td>203100435</td>\n",
       "      <td>1</td>\n",
       "      <td>0.0</td>\n",
       "      <td>690</td>\n",
       "    </tr>\n",
       "    <tr>\n",
       "      <th>3467</th>\n",
       "      <td>1453602309</td>\n",
       "      <td>0</td>\n",
       "      <td>1.5</td>\n",
       "      <td>1430</td>\n",
       "    </tr>\n",
       "    <tr>\n",
       "      <th>6994</th>\n",
       "      <td>2954400190</td>\n",
       "      <td>0</td>\n",
       "      <td>0.0</td>\n",
       "      <td>4810</td>\n",
       "    </tr>\n",
       "    <tr>\n",
       "      <th>875</th>\n",
       "      <td>6306400140</td>\n",
       "      <td>0</td>\n",
       "      <td>0.0</td>\n",
       "      <td>3064</td>\n",
       "    </tr>\n",
       "  </tbody>\n",
       "</table>\n",
       "</div>"
      ],
      "text/plain": [
       "               id  bedrooms  bathrooms  sqft_living\n",
       "9773   3374500520         0        0.0         2460\n",
       "14423  9543000205         0        0.0          844\n",
       "12653  7849202299         0        2.5         1490\n",
       "1149   3421079032         1        0.0          670\n",
       "3119   3918400017         0        0.0         1470\n",
       "9854   7849202190         0        0.0         1470\n",
       "8477   2569500210         0        2.5         2290\n",
       "5832   5702500050         1        0.0          600\n",
       "18379  1222029077         0        0.8          384\n",
       "4868   6896300380         0        1.0          390\n",
       "19452  3980300371         0        0.0          290\n",
       "8484   2310060040         0        2.5         1810\n",
       "10481   203100435         1        0.0          690\n",
       "3467   1453602309         0        1.5         1430\n",
       "6994   2954400190         0        0.0         4810\n",
       "875    6306400140         0        0.0         3064"
      ]
     },
     "execution_count": 514,
     "metadata": {},
     "output_type": "execute_result"
    }
   ],
   "source": [
    "# check the data with 0 as number of bedrooms and bathrooms\n",
    "\n",
    "df1[(df1['bedrooms']==0) | (df1['bathrooms']==0)][['id','bedrooms','bathrooms','sqft_living']]"
   ]
  },
  {
   "cell_type": "markdown",
   "metadata": {},
   "source": [
    "As an assumption of this project, the data above will be considered outlier"
   ]
  },
  {
   "cell_type": "code",
   "execution_count": 515,
   "metadata": {},
   "outputs": [],
   "source": [
    "# filtering properties with the number of bedrooms or bathrooms greater than 0 \n",
    "df1 = df1[(df1['bedrooms']!=0) | (df1['bathrooms'] != 0)]"
   ]
  },
  {
   "cell_type": "markdown",
   "metadata": {},
   "source": [
    "The data of number of rooms must be proportional to the value of the living area. Thus, it can be a hint of whether or not the high number of bedrooms are data with typo "
   ]
  },
  {
   "cell_type": "code",
   "execution_count": 516,
   "metadata": {},
   "outputs": [
    {
     "data": {
      "image/png": "[encoded data removed]",
      "text/plain": [
       "<Figure size 864x576 with 1 Axes>"
      ]
     },
     "metadata": {},
     "output_type": "display_data"
    }
   ],
   "source": [
    "# plotting number bedrooms > 5 (outlier points) x living area\n",
    "plt.figure(figsize=(12,8))\n",
    "sns.boxplot(x = df1['bedrooms'], y = df1['sqft_living']);"
   ]
  },
  {
   "cell_type": "markdown",
   "metadata": {},
   "source": [
    "Since the property with 33 bedrooms doesn't tend to have a bigger living area, it will be considered an outlier as well"
   ]
  },
  {
   "cell_type": "code",
   "execution_count": 517,
   "metadata": {},
   "outputs": [
    {
     "data": {
      "text/plain": [
       "15870    33\n",
       "Name: bedrooms, dtype: int64"
      ]
     },
     "execution_count": 517,
     "metadata": {},
     "output_type": "execute_result"
    }
   ],
   "source": [
    "# checking \n",
    "df1.loc[df1['bedrooms']==33,'bedrooms'] "
   ]
  },
  {
   "cell_type": "code",
   "execution_count": 518,
   "metadata": {},
   "outputs": [],
   "source": [
    "# replacing the value of bedrooms = 33 by the median of bedrooms data\n",
    "\n",
    "df1.loc[df1['bedrooms']==33,'bedrooms'] = df1['bedrooms'].median()"
   ]
  },
  {
   "cell_type": "markdown",
   "metadata": {},
   "source": [
    "## 2.7 Features"
   ]
  },
  {
   "cell_type": "markdown",
   "metadata": {},
   "source": [
    "In this section, all features are created based on hypotheses validation and the business scenario solving."
   ]
  },
  {
   "cell_type": "code",
   "execution_count": 519,
   "metadata": {},
   "outputs": [],
   "source": [
    "# Date features\n",
    "\n",
    "# month-day column\n",
    "df1['month-day'] = df1['date'].dt.strftime('%m-%d')\n",
    "\n",
    "# Year seasons\n",
    "df1['season_year'] = df1['month-day'].apply(lambda x: 'summer' if x >= '06-21' and x < '09-22' else     \n",
    "                                                      'fall' if x >= '09-22' and x < '12-21' else \n",
    "                                                      'spring' if x >= '03-20' and x < '06-20' else\n",
    "                                                      'winter')\n",
    "\n",
    "# year column\n",
    "df1['year'] = df1['date'].dt.year\n",
    "\n",
    "# month column\n",
    "df1['month'] = df1['date'].dt.strftime('%Y-%m')\n",
    " "
   ]
  },
  {
   "cell_type": "code",
   "execution_count": 520,
   "metadata": {},
   "outputs": [],
   "source": [
    "# Numeric features\n",
    " \n",
    "# median price of the region\n",
    "price_reg_grouped = df1[['price','zipcode']].groupby('zipcode').median().reset_index()\n",
    "m1 = df1.merge(price_reg_grouped, on=['zipcode'], validate='many_to_one', how='inner')\n",
    "\n",
    "# median price of region by season\n",
    "price_regssn_grouped = m1[['price_x','season_year', 'zipcode']].groupby(['zipcode','season_year']).median().reset_index()\n",
    "m2 = m1.merge(price_regssn_grouped, on=['zipcode','season_year'],validate= 'many_to_one', how='inner')\n",
    "\n",
    "\n",
    "m2.columns = ['id', 'date', 'price', 'bedrooms', 'bathrooms', 'sqft_living',\n",
    "       'sqft_lot', 'floors', 'waterfront', 'view', 'condition', 'grade',\n",
    "       'sqft_above', 'sqft_basement', 'yr_built', 'yr_renovated', 'zipcode',\n",
    "       'lat', 'long', 'sqft_living15', 'sqft_lot15', 'month-day',\n",
    "       'season_year', 'year', 'month', 'median_price', 'median_s_price']\n",
    "\n",
    "\n",
    "\n",
    "df1 = m2.copy()\n",
    "\n",
    "# sqft_living - sqft_living15 \n",
    "df1['sqft_diff15_num'] = df1.apply(lambda x: x['sqft_living'] - x['sqft_living15'], axis = 1)\n"
   ]
  },
  {
   "cell_type": "code",
   "execution_count": 521,
   "metadata": {},
   "outputs": [],
   "source": [
    "# Categoric features\n",
    "\n",
    "# sqft_living - sqft_living15 (True if the difference is negative. False if the difference is positive)\n",
    "df1['sqft_diff15_cat'] = df1.apply(lambda x: True if x['sqft_diff15_num'] < 0 else False, axis = 1)\n",
    "\n",
    "\n",
    "# yr_built prior to 1955 (0: built prior to 1955 | 1: built after 1955)\n",
    "df1['built_prior_1955'] = df1['yr_built'].apply(lambda x: '< 1955' if x < 1955 else '> 1955')\n",
    "\n",
    "# properties with/without basement column\n",
    "df1['has_basement'] = df1['sqft_basement'].apply(lambda x: 'with basement' if x > 0 else 'without basement')\n",
    "\n",
    "# properties with 3 bathrooms or more (yes: number of bathrooms >= 3, no: < 3)\n",
    "df1['bathrooms3'] = df1['bathrooms'].apply(lambda x: '>= 3' if x >= 3 else '< 3')\n",
    "\n",
    "# properties renovated after 2005\n",
    "df1['renovated_after_2005'] = df1['yr_renovated'].apply(lambda x:  '< 2005' if x < 2005 else \n",
    "                                                                   'never renovated' if x == 0 else '> 2005')\n",
    "                                                            \n",
    "# renovation space (0: no space, 1: has space)\n",
    "df1['renovation_space'] = df1.apply(lambda x: x['sqft_lot']-x['sqft_living'], axis=1)\n"
   ]
  },
  {
   "cell_type": "markdown",
   "metadata": {},
   "source": [
    "# 3.0 EXPLORATORY DATA ANALYSIS"
   ]
  },
  {
   "cell_type": "markdown",
   "metadata": {},
   "source": [
    "All the hypothesis descriptived in section 0.2 will be validated or refutade in this section"
   ]
  },
  {
   "cell_type": "code",
   "execution_count": 522,
   "metadata": {},
   "outputs": [],
   "source": [
    "df2 = df1.copy()"
   ]
  },
  {
   "cell_type": "markdown",
   "metadata": {},
   "source": [
    "## 3.1 Hypotheses"
   ]
  },
  {
   "cell_type": "markdown",
   "metadata": {},
   "source": [
    "### H1. Waterfront properties  are 20% more expensive, on average."
   ]
  },
  {
   "cell_type": "markdown",
   "metadata": {},
   "source": [
    "**True**. Waterfront properties are more than 200% expensive."
   ]
  },
  {
   "cell_type": "code",
   "execution_count": 523,
   "metadata": {},
   "outputs": [
    {
     "data": {
      "image/png": "[encoded data removed]",
      "text/plain": [
       "<Figure size 720x432 with 1 Axes>"
      ]
     },
     "metadata": {},
     "output_type": "display_data"
    },
    {
     "name": "stdout",
     "output_type": "stream",
     "text": [
      "Waterfront properties are 211.76% more expensive, on average\n"
     ]
    }
   ],
   "source": [
    "# creating the mean measures in a dataframe\n",
    "aux = df2[['price','waterfront']].groupby('waterfront').mean().reset_index()\n",
    "\n",
    "# plotting the barplot\n",
    "plt.figure(figsize=(10,6))\n",
    "fig = sns.barplot(x= aux['waterfront'], y= aux['price'], ci=None);\n",
    "fig.bar_label(container = fig.containers[0],fmt=\"%.2f\")\n",
    "fig.set(title='Mean Prices of Properties With / Without Waterfront ')\n",
    "plt.show()\n",
    "\n",
    "# creating the percentage measure\n",
    "measure = (((aux.loc[1,'price'])/(aux.loc[0,'price']))-1)*100\n",
    "\n",
    "print('Waterfront properties are {}% more expensive, on average'.format(round(measure,2)))\n"
   ]
  },
  {
   "cell_type": "markdown",
   "metadata": {},
   "source": [
    "### H2. Properties with built year prior to 1955 are 50% cheaper, on average.\n"
   ]
  },
  {
   "cell_type": "markdown",
   "metadata": {},
   "source": [
    "**False**. This analysis shows that older houses have their prices affected insignificantly."
   ]
  },
  {
   "cell_type": "code",
   "execution_count": 524,
   "metadata": {},
   "outputs": [
    {
     "data": {
      "image/png": "[encoded data removed]",
      "text/plain": [
       "<Figure size 720x432 with 1 Axes>"
      ]
     },
     "metadata": {},
     "output_type": "display_data"
    },
    {
     "name": "stdout",
     "output_type": "stream",
     "text": [
      "Properties that were built prior to 1955 are 0.38% cheaper, on average\n"
     ]
    }
   ],
   "source": [
    "# creating the mean measures in a dataframe\n",
    "aux = df2[['price','built_prior_1955']].groupby('built_prior_1955').mean().reset_index()\n",
    "\n",
    "# plotting the barplot\n",
    "plt.figure(figsize=(10,6))\n",
    "fig = sns.barplot(x= aux['built_prior_1955'], y= aux['price'], estimator=np.mean, ci=None);\n",
    "fig.bar_label(container = fig.containers[0],fmt=\"%.2f\")\n",
    "fig.set(title='Mean Prices of Properties Built Before and After 1955')\n",
    "fig.set_ylim([500000,550000])\n",
    "plt.show()\n",
    "\n",
    "# creating the percentage measure\n",
    "measure = (1-(aux.loc[0,'price'])/(aux.loc[1,'price']))*100\n",
    "\n",
    "print('Properties that were built prior to 1955 are {}% cheaper, on average'.format(round(measure,2)))"
   ]
  },
  {
   "cell_type": "markdown",
   "metadata": {},
   "source": [
    "### H3. Properties without a basement are 40% bigger than the properties with basement.\n"
   ]
  },
  {
   "cell_type": "markdown",
   "metadata": {},
   "source": [
    "**False**. Properties without basement are bigger, but only 20% bigger than the ones with it."
   ]
  },
  {
   "cell_type": "code",
   "execution_count": 525,
   "metadata": {},
   "outputs": [
    {
     "data": {
      "image/png": "[encoded data removed]",
      "text/plain": [
       "<Figure size 720x432 with 1 Axes>"
      ]
     },
     "metadata": {},
     "output_type": "display_data"
    },
    {
     "name": "stdout",
     "output_type": "stream",
     "text": [
      "Properties are 22.81% bigger, on average\n"
     ]
    }
   ],
   "source": [
    "# creating the mean measures in a dataframe\n",
    "aux = df2[['has_basement','sqft_lot']].groupby('has_basement').mean().reset_index()\n",
    "\n",
    "# plotting the barplot\n",
    "plt.figure(figsize=(10,6))\n",
    "fig = sns.barplot(x= aux['has_basement'], y= aux['sqft_lot'], ci=None);\n",
    "fig.bar_label(container = fig.containers[0],fmt=\"%.2f\")\n",
    "fig.set(title='Mean Prices of Properties With / Without Basement')\n",
    "plt.show()\n",
    "\n",
    "# creating the percentage measure\n",
    "measure = ((aux.loc[1,'sqft_lot'])/(aux.loc[0,'sqft_lot'])-1)*100\n",
    "\n",
    "print('Properties are {}% bigger, on average'.format(round(measure,2)))"
   ]
  },
  {
   "cell_type": "markdown",
   "metadata": {},
   "source": [
    "### H4. The YoY (Year over Year) price is increasing in 10%."
   ]
  },
  {
   "cell_type": "markdown",
   "metadata": {},
   "source": [
    "**False**. The percetage growth of the price is less than 1%. Thus, the year change doesn't show high influence."
   ]
  },
  {
   "cell_type": "code",
   "execution_count": 526,
   "metadata": {},
   "outputs": [
    {
     "data": {
      "image/png": "[encoded data removed]",
      "text/plain": [
       "<Figure size 720x432 with 1 Axes>"
      ]
     },
     "metadata": {},
     "output_type": "display_data"
    }
   ],
   "source": [
    "# creating a mean measure in a dataframe\n",
    "aux = df2[['year','price']].groupby('year').mean().reset_index()\n",
    "\n",
    "# creating a percentage change column using .pct_change() function\n",
    "aux['YoY'] = aux['price'].pct_change()\n",
    "\n",
    "# plotting the barplot\n",
    "plt.figure(figsize=(10,6))\n",
    "fig = sns.barplot(x= aux['year'], y= aux['YoY']*100, estimator=np.mean, ci=None);\n",
    "fig.bar_label(container = fig.containers[0],fmt=\"%.3f%%\")\n",
    "fig.set(title='2015 Percentage Growth Price Over 2014')\n",
    "plt.show()"
   ]
  },
  {
   "cell_type": "markdown",
   "metadata": {},
   "source": [
    "\n",
    "### H5. Properties with 3 bathrooms or more have a MoM (Month over Month) price increasing in 15%, on average.\n"
   ]
  },
  {
   "cell_type": "markdown",
   "metadata": {},
   "source": [
    "**False**. The MoM price has never reached 15% since the beggining of the data time. Thus, the average MoM increasing price is 1.66%, on average.\n",
    "- Max MoM percentage: 13.3%\n",
    "\n"
   ]
  },
  {
   "cell_type": "code",
   "execution_count": 527,
   "metadata": {},
   "outputs": [
    {
     "data": {
      "image/png": "[encoded data removed]",
      "text/plain": [
       "<Figure size 720x432 with 1 Axes>"
      ]
     },
     "metadata": {},
     "output_type": "display_data"
    },
    {
     "name": "stdout",
     "output_type": "stream",
     "text": [
      "This properties price are increasing 1.64%, on average\n"
     ]
    }
   ],
   "source": [
    "# creating a mean measure in a dataframe\n",
    "aux = df2[df2['bathrooms3'] == '>= 3'][['bathrooms3','month','price']].groupby('month').mean().reset_index()\n",
    "\n",
    "# creating a percentage change column using .pct_change() function\n",
    "aux['MoM'] = aux['price'].pct_change()*100\n",
    "\n",
    "\n",
    "plt.figure(figsize=(10,6))\n",
    "fig = sns.lineplot(x= aux['month'], y= aux['MoM'], markers='O', color='#965786')\n",
    "fig.set(title='MoM percentage of properties prices with 3 or more bathrooms');\n",
    "\n",
    "# label points on the plot\n",
    "for x, y in zip(aux['month'][1:], aux['MoM'][1:]):\n",
    " # the position of the data label relative to the data point can be adjusted by adding/subtracting a value from the x &/ y coordinates\n",
    " plt.text(x = x, # x-coordinate position of data label\n",
    " y = y+1, # y-coordinate position of data label, adjusted to be 150 below the data point\n",
    " s = '{:.1f}%'.format(y), # data label, formatted to ignore decimals\n",
    " color = 'white').set_backgroundcolor('#965786') # set colour of line\n",
    "\n",
    "\n",
    "plt.show()\n",
    "\n",
    "# creating the percentage measure\n",
    "measure = aux['MoM'].mean()\n",
    "print('This properties price are increasing {}%, on average'.format(round(measure,2)))\n"
   ]
  },
  {
   "cell_type": "markdown",
   "metadata": {},
   "source": [
    "### H6. Properties sell 20% more in summer than in winter.\n",
    "\n"
   ]
  },
  {
   "cell_type": "markdown",
   "metadata": {},
   "source": [
    "**True**. Summer is the second most valued season for real estate in King County, while the winter is the least valued."
   ]
  },
  {
   "cell_type": "code",
   "execution_count": 528,
   "metadata": {},
   "outputs": [
    {
     "data": {
      "image/png": "[encoded data removed]",
      "text/plain": [
       "<Figure size 720x432 with 1 Axes>"
      ]
     },
     "metadata": {},
     "output_type": "display_data"
    },
    {
     "name": "stdout",
     "output_type": "stream",
     "text": [
      "Properties sell 58.85% more, in summer than in winter\n"
     ]
    }
   ],
   "source": [
    "# creating a mean measure in a dataframe\n",
    "aux = df2[['id','season_year']].groupby('season_year').count().reset_index()\n",
    "\n",
    "# plotting the barplot\n",
    "plt.figure(figsize=(10,6))\n",
    "fig = sns.barplot(x= aux['season_year'], y= aux['id'], ci=None);\n",
    "fig.bar_label(container = fig.containers[0],fmt=\"%d\")\n",
    "fig.set(title='Count of Properties Sold on Each Season of the Year')\n",
    "fig.set_ylim([0,7500])\n",
    "plt.show()\n",
    "\n",
    "# creating the percentage measure\n",
    "measure = ((aux.loc[2,'id'])/(aux.loc[3,'id'])-1)*100\n",
    "\n",
    "print('Properties sell {}% more, in summer than in winter'.format(round(measure,2)))\n"
   ]
  },
  {
   "cell_type": "markdown",
   "metadata": {},
   "source": [
    "### H7. In the winter, properties prices tend to be 20% lower than in summer, on average.\n"
   ]
  },
  {
   "cell_type": "markdown",
   "metadata": {},
   "source": [
    "**False**. Despite the house sales in summer be almost 60% higher than in winter, the prices are not so different. In winter properties are cheaper, but only 3%."
   ]
  },
  {
   "cell_type": "code",
   "execution_count": 529,
   "metadata": {},
   "outputs": [
    {
     "data": {
      "image/png": "[encoded data removed]",
      "text/plain": [
       "<Figure size 720x432 with 1 Axes>"
      ]
     },
     "metadata": {},
     "output_type": "display_data"
    },
    {
     "data": {
      "image/png": "[encoded data removed]",
      "text/plain": [
       "<Figure size 720x432 with 1 Axes>"
      ]
     },
     "metadata": {},
     "output_type": "display_data"
    },
    {
     "name": "stdout",
     "output_type": "stream",
     "text": [
      "Properties prices are 3.27% lower, in winter than in summer\n"
     ]
    }
   ],
   "source": [
    "# creating a mean measure in a dataframe\n",
    "aux = df2[['price','season_year']].groupby('season_year').mean().reset_index()\n",
    "\n",
    "# plotting the barplot\n",
    "plt.figure(figsize=(10,6))\n",
    "fig = sns.barplot(x= aux['season_year'], y= aux['price'], ci=None);\n",
    "fig.bar_label(container = fig.containers[0],fmt=\"%.2f\")\n",
    "fig.set(title='Mean Price of Properties on Each Season of the Year')\n",
    "fig.set_ylim([350000,580000])\n",
    "plt.show()\n",
    "\n",
    "# creating the percentage measure\n",
    "measure = (1-(aux.loc[3,'price'])/(aux.loc[2,'price']))*100\n",
    "\n",
    "# graphs of percentages comparing to summer\n",
    "pct_fall = (1-(aux.loc[0,'price'])/(aux.loc[2,'price']))*100\n",
    "pct_spring = (1-(aux.loc[1,'price'])/(aux.loc[2,'price']))*100\n",
    "pct_winter = measure\n",
    "\n",
    "pct_tb = pd.DataFrame({'seasons':['winter','fall','spring'],'pct_diff': [pct_winter, pct_fall, pct_spring]})\n",
    "\n",
    "# plotting the barplot of the percentages differences\n",
    "plt.figure(figsize=(10,6))\n",
    "fig = sns.barplot(x= pct_tb['seasons'], y= pct_tb['pct_diff'], ci=None);\n",
    "fig.bar_label(container = fig.containers[0],fmt=\"%.2f%%\")\n",
    "fig.set(title='Percetage Change from Summer Over the Others Seasons')\n",
    "plt.show()\n",
    "\n",
    "\n",
    "print('Properties prices are {}% lower, in winter than in summer'.format(round(measure,2)))"
   ]
  },
  {
   "cell_type": "markdown",
   "metadata": {},
   "source": [
    "### H8. The number of bedrooms and bathrooms of a property has more effect on price than its total living area "
   ]
  },
  {
   "cell_type": "markdown",
   "metadata": {},
   "source": [
    "**False**. The total living area of the property has more influence on its price than the number of rooms.\n",
    "\n",
    "- The properties living area have a correlation of 0.7 with the price.\n",
    "- Number of bedrooms and bathrooms have 0.32 and 0.53 of correlation with the properties prices, respectively.\n",
    "- Number of bathrooms has more influence on the living area than the number of bedrooms."
   ]
  },
  {
   "cell_type": "code",
   "execution_count": 530,
   "metadata": {},
   "outputs": [
    {
     "data": {
      "image/png": "[encoded data removed]",
      "text/plain": [
       "<Figure size 720x432 with 2 Axes>"
      ]
     },
     "metadata": {},
     "output_type": "display_data"
    }
   ],
   "source": [
    "# creating the correlation dataframe\n",
    "correl = df2[['price','sqft_living','bedrooms','bathrooms']].corr()\n",
    "\n",
    "# plotting the correlation in a heatmap\n",
    "plt.figure(figsize=(10,6))\n",
    "fig = sns.heatmap(correl, annot=True);\n",
    "fig.set(title = 'Heatmap of Properties Features');"
   ]
  },
  {
   "cell_type": "markdown",
   "metadata": {},
   "source": [
    "### H9. Properties renovated after 2005 have their prices higher than the properties which were renovated before 2005 or than have never been renovated, on average."
   ]
  },
  {
   "cell_type": "markdown",
   "metadata": {},
   "source": [
    "**True**. On average, properties that were renovated after 2005 have higher prices."
   ]
  },
  {
   "cell_type": "code",
   "execution_count": 531,
   "metadata": {},
   "outputs": [
    {
     "data": {
      "image/png": "[encoded data removed]",
      "text/plain": [
       "<Figure size 720x432 with 1 Axes>"
      ]
     },
     "metadata": {},
     "output_type": "display_data"
    }
   ],
   "source": [
    "# creating the mean measures in a dataframe\n",
    "aux = df2[['renovated_after_2005','price']].groupby('renovated_after_2005').mean().reset_index()\n",
    "aux.head(10)\n",
    "\n",
    "# plotting the barplot\n",
    "plt.figure(figsize=(10,6))\n",
    "fig = sns.barplot(x= aux['renovated_after_2005'], y= aux['price'], ci=None);\n",
    "fig.bar_label(container = fig.containers[0],fmt=\"%.2f\")\n",
    "fig.set(title='Average Prices for Properties that were Renovated After / Before 2005')\n",
    "plt.show()"
   ]
  },
  {
   "cell_type": "markdown",
   "metadata": {},
   "source": [
    "### H10. Properties that have their total living area smaller than the 15 closest properties are cheaper, on average."
   ]
  },
  {
   "cell_type": "markdown",
   "metadata": {},
   "source": [
    "**True**. Since the living area is the variable with the greatest impact, if the property is smaller than the others closest to it, then its price is cheaper too."
   ]
  },
  {
   "cell_type": "code",
   "execution_count": 532,
   "metadata": {},
   "outputs": [
    {
     "data": {
      "image/png": "[encoded data removed]",
      "text/plain": [
       "<Figure size 720x432 with 1 Axes>"
      ]
     },
     "metadata": {},
     "output_type": "display_data"
    }
   ],
   "source": [
    "# creating the mean measures in a dataframe\n",
    "aux = df2[['sqft_diff15_cat','price']].groupby('sqft_diff15_cat').mean().reset_index()\n",
    "\n",
    "# plotting the barplot\n",
    "plt.figure(figsize=(10,6))\n",
    "fig = sns.barplot(data=aux, x='sqft_diff15_cat', y='price')\n",
    "fig.set(title='Average Prices for Properties with Living Area Smaller / Bigger than the 15 Closest')\n",
    "fig.bar_label(container = fig.containers[0],fmt=\"%.2f\")\n",
    "fig.set_ylim([100000,700000])\n",
    "plt.xticks([True, False], ['smaler','bigger'])\n",
    "plt.show()"
   ]
  },
  {
   "cell_type": "markdown",
   "metadata": {},
   "source": [
    "## 3.2 Business Scenario"
   ]
  },
  {
   "cell_type": "code",
   "execution_count": 533,
   "metadata": {},
   "outputs": [],
   "source": [
    "df3 = df2.copy()"
   ]
  },
  {
   "cell_type": "markdown",
   "metadata": {},
   "source": [
    "### 1. The House Rocket's CEO wants to know which houses the company shall buy and their prices."
   ]
  },
  {
   "cell_type": "markdown",
   "metadata": {},
   "source": [
    "- It will be suggested that properties that have their prices lower than the median price of the region **and** are in good conditions be bought."
   ]
  },
  {
   "cell_type": "markdown",
   "metadata": {},
   "source": [
    "#### 1.1 Planning"
   ]
  },
  {
   "cell_type": "markdown",
   "metadata": {},
   "source": [
    "1. Data are grouped by region and the median prices are calculated. **(Section 2.6)**\n",
    "\n",
    "2. Create condition: \n",
    "    - Properties which have their prices lower than the median price of their own region **and** are in good conditions (above 3) shall be bought\n",
    "    - The ones with prices higher than the median of their region aren't buying recomendations"
   ]
  },
  {
   "cell_type": "code",
   "execution_count": 534,
   "metadata": {},
   "outputs": [],
   "source": [
    "# picking columns\n",
    "df3 = df3[['id','zipcode','price', 'season_year','median_price', 'median_s_price','condition','sqft_diff15_num','sqft_lot','sqft_living']]\n",
    "\n",
    "# creating status column\n",
    "df3['status'] = df3.apply(lambda x: 'buy' if x['price'] < x['median_price'] and x['condition'] >= 3 else 'do not buy' ,axis = 1)"
   ]
  },
  {
   "cell_type": "code",
   "execution_count": 535,
   "metadata": {},
   "outputs": [
    {
     "data": {
      "text/html": [
       "<div>\n",
       "<style scoped>\n",
       "    .dataframe tbody tr th:only-of-type {\n",
       "        vertical-align: middle;\n",
       "    }\n",
       "\n",
       "    .dataframe tbody tr th {\n",
       "        vertical-align: top;\n",
       "    }\n",
       "\n",
       "    .dataframe thead th {\n",
       "        text-align: right;\n",
       "    }\n",
       "</style>\n",
       "<table border=\"1\" class=\"dataframe\">\n",
       "  <thead>\n",
       "    <tr style=\"text-align: right;\">\n",
       "      <th></th>\n",
       "      <th>0</th>\n",
       "      <th>1</th>\n",
       "      <th>2</th>\n",
       "      <th>3</th>\n",
       "      <th>4</th>\n",
       "      <th>5</th>\n",
       "      <th>6</th>\n",
       "      <th>7</th>\n",
       "      <th>8</th>\n",
       "      <th>9</th>\n",
       "    </tr>\n",
       "  </thead>\n",
       "  <tbody>\n",
       "    <tr>\n",
       "      <th>id</th>\n",
       "      <td>9106000005.0</td>\n",
       "      <td>5101400871.0</td>\n",
       "      <td>2359300030.0</td>\n",
       "      <td>2887700560.0</td>\n",
       "      <td>5100401441.0</td>\n",
       "      <td>3265300410.0</td>\n",
       "      <td>7977200995.0</td>\n",
       "      <td>7974200902.0</td>\n",
       "      <td>441000065.0</td>\n",
       "      <td>3213200180.0</td>\n",
       "    </tr>\n",
       "    <tr>\n",
       "      <th>zipcode</th>\n",
       "      <td>98115.0</td>\n",
       "      <td>98115.0</td>\n",
       "      <td>98115.0</td>\n",
       "      <td>98115.0</td>\n",
       "      <td>98115.0</td>\n",
       "      <td>98115.0</td>\n",
       "      <td>98115.0</td>\n",
       "      <td>98115.0</td>\n",
       "      <td>98115.0</td>\n",
       "      <td>98115.0</td>\n",
       "    </tr>\n",
       "    <tr>\n",
       "      <th>price</th>\n",
       "      <td>1310000.0</td>\n",
       "      <td>445500.0</td>\n",
       "      <td>565000.0</td>\n",
       "      <td>616500.0</td>\n",
       "      <td>495000.0</td>\n",
       "      <td>370000.0</td>\n",
       "      <td>506000.0</td>\n",
       "      <td>637000.0</td>\n",
       "      <td>653000.0</td>\n",
       "      <td>700180.0</td>\n",
       "    </tr>\n",
       "    <tr>\n",
       "      <th>median_price</th>\n",
       "      <td>570000.0</td>\n",
       "      <td>570000.0</td>\n",
       "      <td>570000.0</td>\n",
       "      <td>570000.0</td>\n",
       "      <td>570000.0</td>\n",
       "      <td>570000.0</td>\n",
       "      <td>570000.0</td>\n",
       "      <td>570000.0</td>\n",
       "      <td>570000.0</td>\n",
       "      <td>570000.0</td>\n",
       "    </tr>\n",
       "    <tr>\n",
       "      <th>condition</th>\n",
       "      <td>5.0</td>\n",
       "      <td>3.0</td>\n",
       "      <td>3.0</td>\n",
       "      <td>5.0</td>\n",
       "      <td>3.0</td>\n",
       "      <td>3.0</td>\n",
       "      <td>3.0</td>\n",
       "      <td>3.0</td>\n",
       "      <td>4.0</td>\n",
       "      <td>3.0</td>\n",
       "    </tr>\n",
       "  </tbody>\n",
       "</table>\n",
       "</div>"
      ],
      "text/plain": [
       "                        0            1            2            3            4            5            6            7           8            9\n",
       "id           9106000005.0 5101400871.0 2359300030.0 2887700560.0 5100401441.0 3265300410.0 7977200995.0 7974200902.0 441000065.0 3213200180.0\n",
       "zipcode           98115.0      98115.0      98115.0      98115.0      98115.0      98115.0      98115.0      98115.0     98115.0      98115.0\n",
       "price           1310000.0     445500.0     565000.0     616500.0     495000.0     370000.0     506000.0     637000.0    653000.0     700180.0\n",
       "median_price     570000.0     570000.0     570000.0     570000.0     570000.0     570000.0     570000.0     570000.0    570000.0     570000.0\n",
       "condition             5.0          3.0          3.0          5.0          3.0          3.0          3.0          3.0         4.0          3.0"
      ]
     },
     "execution_count": 535,
     "metadata": {},
     "output_type": "execute_result"
    }
   ],
   "source": [
    "tb1 = df3[['id','zipcode','price','median_price', 'condition']].copy()\n",
    "tb1.to_csv('csv reports\\houses_to_buy.csv')\n",
    "tb1.head(10).T"
   ]
  },
  {
   "cell_type": "markdown",
   "metadata": {},
   "source": [
    "### 2. The CEO also wants to know when the company shall sell the properties suggested and for what price"
   ]
  },
  {
   "cell_type": "markdown",
   "metadata": {},
   "source": [
    "- It will be suggested that properties with prices lower than the median price of their region **and** season that were priced, be sold with 30% increasing, while the ones with higher prices be sold with a 10% price increasing\n",
    "\n",
    "- As seen ealier on section 3.1, in hypothesis 5 and 6, properties sell more in Spring and also are more expensive. In view of this condition, the sale price recommended is a minimum requirement \n",
    "\n",
    "- The sale price is expected if the property is sold in its respective season"
   ]
  },
  {
   "cell_type": "markdown",
   "metadata": {},
   "source": [
    "#### 2.1 Planning"
   ]
  },
  {
   "cell_type": "markdown",
   "metadata": {},
   "source": [
    "1. Data are grouped by region **and** season. The median prices are calculated. **(Section 2.6)**\n",
    "\n",
    "2. Create condition: \n",
    "    - Properties which have their prices lower than the median price of their own region and season, shall be sold with a 30% increasing on their prices\n",
    "    - The ones with prices higher than the median of their region and season shall be sold with a 10% increasing on their prices"
   ]
  },
  {
   "cell_type": "code",
   "execution_count": 536,
   "metadata": {},
   "outputs": [],
   "source": [
    "# filtering properties suggested\n",
    "df3 = df3[df3['status'] == 'buy'].copy().reset_index()\n",
    "\n",
    "# sell price column\n",
    "df3['sale_price'] = df3.apply(lambda x: 1.3*x['price'] if x['price'] > x['median_s_price'] else 1.1*x['price'], axis=1)\n",
    "\n",
    "# profit column\n",
    "df3['profit'] = df3.apply(lambda x: x['sale_price'] - x['price'], axis=1)\n",
    "\n"
   ]
  },
  {
   "cell_type": "code",
   "execution_count": 537,
   "metadata": {},
   "outputs": [
    {
     "data": {
      "text/html": [
       "<div>\n",
       "<style scoped>\n",
       "    .dataframe tbody tr th:only-of-type {\n",
       "        vertical-align: middle;\n",
       "    }\n",
       "\n",
       "    .dataframe tbody tr th {\n",
       "        vertical-align: top;\n",
       "    }\n",
       "\n",
       "    .dataframe thead th {\n",
       "        text-align: right;\n",
       "    }\n",
       "</style>\n",
       "<table border=\"1\" class=\"dataframe\">\n",
       "  <thead>\n",
       "    <tr style=\"text-align: right;\">\n",
       "      <th></th>\n",
       "      <th>0</th>\n",
       "      <th>1</th>\n",
       "      <th>2</th>\n",
       "      <th>3</th>\n",
       "      <th>4</th>\n",
       "      <th>5</th>\n",
       "      <th>6</th>\n",
       "      <th>7</th>\n",
       "      <th>8</th>\n",
       "      <th>9</th>\n",
       "    </tr>\n",
       "  </thead>\n",
       "  <tbody>\n",
       "    <tr>\n",
       "      <th>id</th>\n",
       "      <td>5101400871</td>\n",
       "      <td>2359300030</td>\n",
       "      <td>5100401441</td>\n",
       "      <td>3265300410</td>\n",
       "      <td>7977200995</td>\n",
       "      <td>8024200677</td>\n",
       "      <td>1566100450</td>\n",
       "      <td>9215400105</td>\n",
       "      <td>7977200720</td>\n",
       "      <td>7920100025</td>\n",
       "    </tr>\n",
       "    <tr>\n",
       "      <th>zipcode</th>\n",
       "      <td>98115</td>\n",
       "      <td>98115</td>\n",
       "      <td>98115</td>\n",
       "      <td>98115</td>\n",
       "      <td>98115</td>\n",
       "      <td>98115</td>\n",
       "      <td>98115</td>\n",
       "      <td>98115</td>\n",
       "      <td>98115</td>\n",
       "      <td>98115</td>\n",
       "    </tr>\n",
       "    <tr>\n",
       "      <th>season_year</th>\n",
       "      <td>spring</td>\n",
       "      <td>spring</td>\n",
       "      <td>spring</td>\n",
       "      <td>spring</td>\n",
       "      <td>spring</td>\n",
       "      <td>spring</td>\n",
       "      <td>spring</td>\n",
       "      <td>spring</td>\n",
       "      <td>spring</td>\n",
       "      <td>spring</td>\n",
       "    </tr>\n",
       "    <tr>\n",
       "      <th>median_s_price</th>\n",
       "      <td>594000.0</td>\n",
       "      <td>594000.0</td>\n",
       "      <td>594000.0</td>\n",
       "      <td>594000.0</td>\n",
       "      <td>594000.0</td>\n",
       "      <td>594000.0</td>\n",
       "      <td>594000.0</td>\n",
       "      <td>594000.0</td>\n",
       "      <td>594000.0</td>\n",
       "      <td>594000.0</td>\n",
       "    </tr>\n",
       "    <tr>\n",
       "      <th>price</th>\n",
       "      <td>445500.0</td>\n",
       "      <td>565000.0</td>\n",
       "      <td>495000.0</td>\n",
       "      <td>370000.0</td>\n",
       "      <td>506000.0</td>\n",
       "      <td>415000.0</td>\n",
       "      <td>505000.0</td>\n",
       "      <td>450000.0</td>\n",
       "      <td>500000.0</td>\n",
       "      <td>450000.0</td>\n",
       "    </tr>\n",
       "    <tr>\n",
       "      <th>sale_price</th>\n",
       "      <td>490050.0</td>\n",
       "      <td>621500.0</td>\n",
       "      <td>544500.0</td>\n",
       "      <td>407000.0</td>\n",
       "      <td>556600.0</td>\n",
       "      <td>456500.0</td>\n",
       "      <td>555500.0</td>\n",
       "      <td>495000.0</td>\n",
       "      <td>550000.0</td>\n",
       "      <td>495000.0</td>\n",
       "    </tr>\n",
       "    <tr>\n",
       "      <th>profit</th>\n",
       "      <td>44550.0</td>\n",
       "      <td>56500.0</td>\n",
       "      <td>49500.0</td>\n",
       "      <td>37000.0</td>\n",
       "      <td>50600.0</td>\n",
       "      <td>41500.0</td>\n",
       "      <td>50500.0</td>\n",
       "      <td>45000.0</td>\n",
       "      <td>50000.0</td>\n",
       "      <td>45000.0</td>\n",
       "    </tr>\n",
       "  </tbody>\n",
       "</table>\n",
       "</div>"
      ],
      "text/plain": [
       "                         0           1           2           3           4           5           6           7           8           9\n",
       "id              5101400871  2359300030  5100401441  3265300410  7977200995  8024200677  1566100450  9215400105  7977200720  7920100025\n",
       "zipcode              98115       98115       98115       98115       98115       98115       98115       98115       98115       98115\n",
       "season_year         spring      spring      spring      spring      spring      spring      spring      spring      spring      spring\n",
       "median_s_price    594000.0    594000.0    594000.0    594000.0    594000.0    594000.0    594000.0    594000.0    594000.0    594000.0\n",
       "price             445500.0    565000.0    495000.0    370000.0    506000.0    415000.0    505000.0    450000.0    500000.0    450000.0\n",
       "sale_price        490050.0    621500.0    544500.0    407000.0    556600.0    456500.0    555500.0    495000.0    550000.0    495000.0\n",
       "profit             44550.0     56500.0     49500.0     37000.0     50600.0     41500.0     50500.0     45000.0     50000.0     45000.0"
      ]
     },
     "execution_count": 537,
     "metadata": {},
     "output_type": "execute_result"
    }
   ],
   "source": [
    "tb2 = df3[['id','zipcode','season_year','median_s_price','price','sale_price','profit']].copy()\n",
    "tb2.to_csv('csv reports\\sale_price_houses.csv')\n",
    "tb2.head(10).T\n",
    "\n"
   ]
  },
  {
   "cell_type": "markdown",
   "metadata": {},
   "source": [
    "### 3. the CEO wants to know whether or not House Rocket should do a house renovation to increase the sale prices. "
   ]
  },
  {
   "cell_type": "markdown",
   "metadata": {},
   "source": [
    "As seen earlier on section 3.1, in hypothesis 9, properties which have been renovated since 2005 are more expensive than the one which have not. Thus, the company should consider a renovation scenario for some properties."
   ]
  },
  {
   "cell_type": "markdown",
   "metadata": {},
   "source": [
    "#### 3.1 What could be the renovation suggestions?"
   ]
  },
  {
   "cell_type": "markdown",
   "metadata": {},
   "source": [
    "Some points:\n",
    "- In hypothesis 10, is showed that properties smaller than the 15 properties closest to them are cheaper, on average\n",
    "- The correlation seen in hypothesis 8 shows that:\n",
    "    - Total living area has the highest impact on price \n",
    "    - Number of bathrooms has more impact on price than number of bedrooms\n",
    "    - Low impact of number of bedrooms on price.\n",
    "\n",
    "It will be suggested one option of renovation for properties with a smaller living area than the other 15 closest:\n",
    "- Increase living area on condition that the new area doesn't exceed 25% of the original living area (This condition prevents prices from rising too high)\n"
   ]
  },
  {
   "cell_type": "markdown",
   "metadata": {},
   "source": [
    "#### 3.2 How much is the price incresing for each renovation option?\n",
    "\n",
    " "
   ]
  },
  {
   "cell_type": "markdown",
   "metadata": {},
   "source": [
    "The price increasing is the additional square feet price"
   ]
  },
  {
   "cell_type": "markdown",
   "metadata": {},
   "source": [
    "##### 3.3 Planning"
   ]
  },
  {
   "cell_type": "markdown",
   "metadata": {},
   "source": [
    "1. Properties with renovation conditions are indicated by column renovation_space. Homes with no space for renovations are indicated with 0. **(Section 2.6)** \n",
    "2. Since the minimum space needs to be 80 square feet, create condition:\n",
    "\n",
    "    - If the property has its total living area smaller than the average size of the other 15 properties closest, then it will be suggested the option 1\n",
    "    - If the property is bigger than the average size of the other 15 closest properties, then it will be suggested the option 2\n",
    "#\n",
    "3. The price increasing will be:\n",
    "    - Option 1: Price + extra square feet price. (It is assumped that sqft_price includes the costs with the construction)\n",
    "    \n",
    " "
   ]
  },
  {
   "cell_type": "code",
   "execution_count": 538,
   "metadata": {},
   "outputs": [],
   "source": [
    "# defining which properties should be renovated\n",
    "df3['renovation'] = df3.apply(lambda x: 'yes' if (x['sqft_diff15_num'] < 0)  & ((x['sqft_lot']-x['sqft_living']) > 0) else 'no', axis= 1 )\n",
    "\n",
    "# defining renovation area in order to set the price increasing\n",
    "df3['renovation_area'] = df3.apply(lambda x: x['sqft_diff15_num']*(-1) if (x['renovation'] == 'yes') and (x['sqft_diff15_num']*(-1) <= 0.25*x['sqft_living']) else\n",
    "                                             0.25*x['sqft_living'] if (x['renovation'] == 'yes') and (x['sqft_diff15_num']*(-1) > 0.25*x['sqft_living']) else\n",
    "                                             0, axis=1 )\n",
    "\n",
    "# defining price increasing\n",
    "df3['sqft_price'] = df3.apply(lambda x: x['price']/x['sqft_living'], axis=1)\n",
    "df3['price_increasing'] = df3.apply(lambda x: x['sqft_price']*x['renovation_area'], axis=1)\n",
    "\n",
    "# defining new sale_price and profit\n",
    "df3['sale_price_renovated'] = df3.apply(lambda x: x['sale_price'] + x['price_increasing'], axis=1)\n",
    "df3['profit_renovated'] = df3.apply(lambda x: x['sale_price_renovated']-x['price'], axis=1)\n"
   ]
  },
  {
   "cell_type": "code",
   "execution_count": 539,
   "metadata": {},
   "outputs": [
    {
     "data": {
      "text/html": [
       "<div>\n",
       "<style scoped>\n",
       "    .dataframe tbody tr th:only-of-type {\n",
       "        vertical-align: middle;\n",
       "    }\n",
       "\n",
       "    .dataframe tbody tr th {\n",
       "        vertical-align: top;\n",
       "    }\n",
       "\n",
       "    .dataframe thead th {\n",
       "        text-align: right;\n",
       "    }\n",
       "</style>\n",
       "<table border=\"1\" class=\"dataframe\">\n",
       "  <thead>\n",
       "    <tr style=\"text-align: right;\">\n",
       "      <th></th>\n",
       "      <th>0</th>\n",
       "      <th>1</th>\n",
       "      <th>2</th>\n",
       "      <th>3</th>\n",
       "      <th>4</th>\n",
       "      <th>5</th>\n",
       "      <th>6</th>\n",
       "      <th>7</th>\n",
       "      <th>8</th>\n",
       "      <th>9</th>\n",
       "    </tr>\n",
       "  </thead>\n",
       "  <tbody>\n",
       "    <tr>\n",
       "      <th>id</th>\n",
       "      <td>5101400871</td>\n",
       "      <td>2359300030</td>\n",
       "      <td>5100401441</td>\n",
       "      <td>3265300410</td>\n",
       "      <td>7977200995</td>\n",
       "      <td>8024200677</td>\n",
       "      <td>1566100450</td>\n",
       "      <td>9215400105</td>\n",
       "      <td>7977200720</td>\n",
       "      <td>7920100025</td>\n",
       "    </tr>\n",
       "    <tr>\n",
       "      <th>zipcode</th>\n",
       "      <td>98115</td>\n",
       "      <td>98115</td>\n",
       "      <td>98115</td>\n",
       "      <td>98115</td>\n",
       "      <td>98115</td>\n",
       "      <td>98115</td>\n",
       "      <td>98115</td>\n",
       "      <td>98115</td>\n",
       "      <td>98115</td>\n",
       "      <td>98115</td>\n",
       "    </tr>\n",
       "    <tr>\n",
       "      <th>price</th>\n",
       "      <td>445500.0</td>\n",
       "      <td>565000.0</td>\n",
       "      <td>495000.0</td>\n",
       "      <td>370000.0</td>\n",
       "      <td>506000.0</td>\n",
       "      <td>415000.0</td>\n",
       "      <td>505000.0</td>\n",
       "      <td>450000.0</td>\n",
       "      <td>500000.0</td>\n",
       "      <td>450000.0</td>\n",
       "    </tr>\n",
       "    <tr>\n",
       "      <th>renovation</th>\n",
       "      <td>no</td>\n",
       "      <td>yes</td>\n",
       "      <td>no</td>\n",
       "      <td>no</td>\n",
       "      <td>no</td>\n",
       "      <td>no</td>\n",
       "      <td>yes</td>\n",
       "      <td>no</td>\n",
       "      <td>no</td>\n",
       "      <td>yes</td>\n",
       "    </tr>\n",
       "    <tr>\n",
       "      <th>sale_price</th>\n",
       "      <td>490050.0</td>\n",
       "      <td>621500.0</td>\n",
       "      <td>544500.0</td>\n",
       "      <td>407000.0</td>\n",
       "      <td>556600.0</td>\n",
       "      <td>456500.0</td>\n",
       "      <td>555500.0</td>\n",
       "      <td>495000.0</td>\n",
       "      <td>550000.0</td>\n",
       "      <td>495000.0</td>\n",
       "    </tr>\n",
       "    <tr>\n",
       "      <th>sale_price_renovated</th>\n",
       "      <td>490050.0</td>\n",
       "      <td>762750.0</td>\n",
       "      <td>544500.0</td>\n",
       "      <td>407000.0</td>\n",
       "      <td>556600.0</td>\n",
       "      <td>456500.0</td>\n",
       "      <td>681750.0</td>\n",
       "      <td>495000.0</td>\n",
       "      <td>550000.0</td>\n",
       "      <td>604459.5</td>\n",
       "    </tr>\n",
       "    <tr>\n",
       "      <th>profit</th>\n",
       "      <td>44550.0</td>\n",
       "      <td>56500.0</td>\n",
       "      <td>49500.0</td>\n",
       "      <td>37000.0</td>\n",
       "      <td>50600.0</td>\n",
       "      <td>41500.0</td>\n",
       "      <td>50500.0</td>\n",
       "      <td>45000.0</td>\n",
       "      <td>50000.0</td>\n",
       "      <td>45000.0</td>\n",
       "    </tr>\n",
       "    <tr>\n",
       "      <th>profit_renovated</th>\n",
       "      <td>44550.0</td>\n",
       "      <td>197750.0</td>\n",
       "      <td>49500.0</td>\n",
       "      <td>37000.0</td>\n",
       "      <td>50600.0</td>\n",
       "      <td>41500.0</td>\n",
       "      <td>176750.0</td>\n",
       "      <td>45000.0</td>\n",
       "      <td>50000.0</td>\n",
       "      <td>154459.5</td>\n",
       "    </tr>\n",
       "  </tbody>\n",
       "</table>\n",
       "</div>"
      ],
      "text/plain": [
       "                               0           1           2           3           4           5           6           7           8           9\n",
       "id                    5101400871  2359300030  5100401441  3265300410  7977200995  8024200677  1566100450  9215400105  7977200720  7920100025\n",
       "zipcode                    98115       98115       98115       98115       98115       98115       98115       98115       98115       98115\n",
       "price                   445500.0    565000.0    495000.0    370000.0    506000.0    415000.0    505000.0    450000.0    500000.0    450000.0\n",
       "renovation                    no         yes          no          no          no          no         yes          no          no         yes\n",
       "sale_price              490050.0    621500.0    544500.0    407000.0    556600.0    456500.0    555500.0    495000.0    550000.0    495000.0\n",
       "sale_price_renovated    490050.0    762750.0    544500.0    407000.0    556600.0    456500.0    681750.0    495000.0    550000.0    604459.5\n",
       "profit                   44550.0     56500.0     49500.0     37000.0     50600.0     41500.0     50500.0     45000.0     50000.0     45000.0\n",
       "profit_renovated         44550.0    197750.0     49500.0     37000.0     50600.0     41500.0    176750.0     45000.0     50000.0    154459.5"
      ]
     },
     "execution_count": 539,
     "metadata": {},
     "output_type": "execute_result"
    }
   ],
   "source": [
    "tb3 = df3[['id','zipcode','price','renovation','sale_price','sale_price_renovated','profit','profit_renovated']].copy()\n",
    "tb2.to_csv('csv reports\\houses_renovated.csv')\n",
    "tb3.head(10).T"
   ]
  },
  {
   "cell_type": "markdown",
   "metadata": {},
   "source": [
    "# 4.0 RESULTS"
   ]
  },
  {
   "cell_type": "code",
   "execution_count": 540,
   "metadata": {},
   "outputs": [],
   "source": [
    "df4 = df3.copy()"
   ]
  },
  {
   "cell_type": "markdown",
   "metadata": {},
   "source": [
    "## 4.1 Portfolio Recomendations"
   ]
  },
  {
   "cell_type": "code",
   "execution_count": 541,
   "metadata": {},
   "outputs": [
    {
     "data": {
      "text/html": [
       "<div>\n",
       "<style scoped>\n",
       "    .dataframe tbody tr th:only-of-type {\n",
       "        vertical-align: middle;\n",
       "    }\n",
       "\n",
       "    .dataframe tbody tr th {\n",
       "        vertical-align: top;\n",
       "    }\n",
       "\n",
       "    .dataframe thead th {\n",
       "        text-align: right;\n",
       "    }\n",
       "</style>\n",
       "<table border=\"1\" class=\"dataframe\">\n",
       "  <thead>\n",
       "    <tr style=\"text-align: right;\">\n",
       "      <th></th>\n",
       "      <th>0</th>\n",
       "      <th>1</th>\n",
       "    </tr>\n",
       "  </thead>\n",
       "  <tbody>\n",
       "    <tr>\n",
       "      <th>status</th>\n",
       "      <td>buy</td>\n",
       "      <td>buy</td>\n",
       "    </tr>\n",
       "    <tr>\n",
       "      <th>renovation</th>\n",
       "      <td>no</td>\n",
       "      <td>yes</td>\n",
       "    </tr>\n",
       "    <tr>\n",
       "      <th>id</th>\n",
       "      <td>4890</td>\n",
       "      <td>5612</td>\n",
       "    </tr>\n",
       "  </tbody>\n",
       "</table>\n",
       "</div>"
      ],
      "text/plain": [
       "               0     1\n",
       "status       buy   buy\n",
       "renovation    no   yes\n",
       "id          4890  5612"
      ]
     },
     "metadata": {},
     "output_type": "display_data"
    },
    {
     "name": "stdout",
     "output_type": "stream",
     "text": [
      "Total Houses: 10502\n"
     ]
    }
   ],
   "source": [
    "aux1 = df4[['id','status','renovation']].groupby(['status','renovation']).count().reset_index()\n",
    "display(aux1.T)\n",
    "print('Total Houses: {}'.format(aux1.loc[0,'id']+aux1.loc[1,'id']))\n",
    "\n"
   ]
  },
  {
   "cell_type": "markdown",
   "metadata": {},
   "source": [
    "In all, it is recommended the purchase of **10502** properties, i.e. **49%** of the properties, and\n",
    "**5612** of them were suggested to be renovated, i.e. **53.4%** of them."
   ]
  },
  {
   "cell_type": "markdown",
   "metadata": {},
   "source": [
    "## 4.2 Profit"
   ]
  },
  {
   "cell_type": "code",
   "execution_count": 542,
   "metadata": {},
   "outputs": [
    {
     "data": {
      "text/plain": [
       "Text(0.5, 1.0, 'Profit Values ')"
      ]
     },
     "execution_count": 542,
     "metadata": {},
     "output_type": "execute_result"
    },
    {
     "data": {
      "image/png": "[encoded data removed]",
      "text/plain": [
       "<Figure size 720x432 with 1 Axes>"
      ]
     },
     "metadata": {},
     "output_type": "display_data"
    }
   ],
   "source": [
    "# total profit\n",
    "\n",
    "aux2 = df4[['profit','profit_renovated','status']].groupby('status').sum().reset_index().drop('status',axis=1)\n",
    "aux2 = aux2.T.reset_index()\n",
    "aux2.columns = ['profit','value']\n",
    "\n",
    "plt.figure(figsize=(10,6))\n",
    "fig = sns.barplot(data=aux2,x='profit',y='value')\n",
    "fig.bar_label(container = fig.containers[0],fmt=\"%.2f\")\n",
    "fig.set_title('Profit Values ')\n",
    "\n",
    "\n",
    "\n"
   ]
  },
  {
   "cell_type": "markdown",
   "metadata": {},
   "source": [
    "The initial project goal was to generate profit to the comoany.\n",
    "#\n",
    "In a first scenario, it's estimated to the company to gain more than **$ 400 million** with the purchase of all the suggested properties.\n",
    "#\n",
    "However, if the House Rocket decides to do a renovation in the suggested properties, the company can almost double the profit and gain more than **$ 800 million**  "
   ]
  },
  {
   "cell_type": "code",
   "execution_count": 543,
   "metadata": {},
   "outputs": [
    {
     "data": {
      "image/png": "[encoded data removed]",
      "text/plain": [
       "<Figure size 720x432 with 1 Axes>"
      ]
     },
     "metadata": {},
     "output_type": "display_data"
    }
   ],
   "source": [
    "# profit by season\n",
    "\n",
    "aux3 = df4[['profit','profit_renovated', 'season_year']].groupby('season_year').sum().reset_index()\n",
    "\n",
    "aux3 = pd.melt(aux3, id_vars='season_year')\n",
    " \n",
    "plt.figure(figsize=(10,6))\n",
    "fig = sns.barplot(data=aux3,x='season_year',y='value', hue='variable')\n",
    "fig.set_title('Profit of Properties With / Without a Renovation Recomendation')\n",
    "fig.bar_label(container = fig.containers[1],fmt=\"%.2f\");\n"
   ]
  }
 ],
 "metadata": {
  "kernelspec": {
   "display_name": "Python 3.9.12 ('base')",
   "language": "python",
   "name": "python3"
  },
  "language_info": {
   "codemirror_mode": {
    "name": "ipython",
    "version": 3
   },
   "file_extension": ".py",
   "mimetype": "text/x-python",
   "name": "python",
   "nbconvert_exporter": "python",
   "pygments_lexer": "ipython3",
   "version": "3.9.12"
  },
  "orig_nbformat": 4,
  "vscode": {
   "interpreter": {
    "hash": "465bc43bf4cbae58c142e3527ff2b05702dd810bc8ebc4f627e0af6c067b87a4"
   }
  }
 },
 "nbformat": 4,
 "nbformat_minor": 2
}
