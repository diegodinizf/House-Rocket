{
 "cells": [
  {
   "cell_type": "markdown",
   "metadata": {},
   "source": [
    "# 0.0 INTRODUCTION"
   ]
  },
  {
   "cell_type": "markdown",
   "metadata": {},
   "source": [
    "This project adresses a fictional company, called House Rocket, that works reselling properties in King County (WA).\n",
    "\n",
    "The company's CEO wants to increase their profits for the next year, so they asked to create a analysis based on a business scenario that he brought."
   ]
  },
  {
   "cell_type": "markdown",
   "metadata": {},
   "source": [
    "## 0.1 Business Scenario"
   ]
  },
  {
   "cell_type": "markdown",
   "metadata": {},
   "source": [
    "1. The House Rocket's CEO wants to know which houses the company shall buy and them prices\n",
    "\n",
    "2. The CEO also wants to know when the company shall sell them and for what price\n",
    "\n",
    "3. Should House Rocket do a house renovation to raise the sale price? What could be the renovation suggestions? How much is the price incresing for each renovation option?"
   ]
  },
  {
   "cell_type": "markdown",
   "metadata": {},
   "source": [
    "## 0.2 Hypothesis"
   ]
  },
  {
   "cell_type": "markdown",
   "metadata": {},
   "source": [
    "These topics are created to help solve the questions"
   ]
  },
  {
   "cell_type": "markdown",
   "metadata": {},
   "source": [
    "1. Waterfront properties  are 20% more expansive, on average.\n",
    "2. Properties with built year prior to 1955 are 50% cheaper, on average.\n",
    "3. Properties without a basement are 40% bigger than the properties with basement.\n",
    "4. The YoY (Year over Year) price is increasing in 10%.\n",
    "5. Properties with 3 bathrooms have a MoM (Month over Month) price increasing in 15%. \n",
    "6. Properties sell 20% more in summer than in winter.\n",
    "7. In the winter, properties prices tend to be 20% lower than in summer\n",
    "8. The number of bedrooms and bathrooms of a property has more effect on price than its total living area \n",
    "9. Properties with a smaller living area than the other 15 properties closest to it have their price 10% lower than the median price for their region\n",
    "10. Properties renovated after 2005 have their prices higher than the properties which were renovated before 2005 or than have never been renovated"
   ]
  },
  {
   "cell_type": "markdown",
   "metadata": {},
   "source": [
    "# 1.0 IMPORT DATA"
   ]
  },
  {
   "cell_type": "code",
   "execution_count": 922,
   "metadata": {},
   "outputs": [],
   "source": [
    "import pandas as pd\n",
    "import numpy as np\n",
    "import matplotlib.pyplot as plt\n",
    "import seaborn as sns\n",
    "import plotly.graph_objects as go\n",
    "\n",
    "from datetime import datetime\n",
    "from matplotlib import gridspec\n",
    "from IPython.display import Image\n",
    "from IPython.display import HTML "
   ]
  },
  {
   "cell_type": "markdown",
   "metadata": {},
   "source": [
    "## 1.1 Functions"
   ]
  },
  {
   "cell_type": "code",
   "execution_count": 923,
   "metadata": {},
   "outputs": [],
   "source": [
    "def jupyter_settings():\n",
    "    %matplotlib inline\n",
    "    \n",
    "    plt.style.use( 'bmh' )\n",
    "    plt.rcParams['figure.figsize'] = [25, 12]\n",
    "    plt.rcParams['font.size'] = 25\n",
    "    #display( HTML( '<style>.container { width:100% !important; }</style>') )\n",
    "    pd.options.display.max_columns = None\n",
    "    pd.options.display.max_rows = None\n",
    "    pd.set_option( 'display.expand_frame_repr', False )\n",
    "    sns.set()\n",
    "\n",
    "def sc_notation_off():\n",
    "    pd.set_option('display.float_format', lambda x: '%.1f' % x)\n",
    "    return None\n",
    "\n",
    "jupyter_settings()\n",
    "sc_notation_off()"
   ]
  },
  {
   "cell_type": "markdown",
   "metadata": {},
   "source": [
    "## 1.2 Extraction"
   ]
  },
  {
   "cell_type": "code",
   "execution_count": 924,
   "metadata": {},
   "outputs": [],
   "source": [
    "df_raw = pd.read_csv(\"kc_house_data.csv\")"
   ]
  },
  {
   "cell_type": "code",
   "execution_count": 925,
   "metadata": {},
   "outputs": [
    {
     "data": {
      "text/html": [
       "<div>\n",
       "<style scoped>\n",
       "    .dataframe tbody tr th:only-of-type {\n",
       "        vertical-align: middle;\n",
       "    }\n",
       "\n",
       "    .dataframe tbody tr th {\n",
       "        vertical-align: top;\n",
       "    }\n",
       "\n",
       "    .dataframe thead th {\n",
       "        text-align: right;\n",
       "    }\n",
       "</style>\n",
       "<table border=\"1\" class=\"dataframe\">\n",
       "  <thead>\n",
       "    <tr style=\"text-align: right;\">\n",
       "      <th></th>\n",
       "      <th>36</th>\n",
       "      <th>13619</th>\n",
       "      <th>5734</th>\n",
       "      <th>3173</th>\n",
       "      <th>19607</th>\n",
       "      <th>8009</th>\n",
       "      <th>2940</th>\n",
       "      <th>9714</th>\n",
       "      <th>10869</th>\n",
       "      <th>18297</th>\n",
       "    </tr>\n",
       "  </thead>\n",
       "  <tbody>\n",
       "    <tr>\n",
       "      <th>id</th>\n",
       "      <td>9435300030</td>\n",
       "      <td>253600180</td>\n",
       "      <td>2921079027</td>\n",
       "      <td>8651511220</td>\n",
       "      <td>4024100915</td>\n",
       "      <td>3723800097</td>\n",
       "      <td>1494300110</td>\n",
       "      <td>225079036</td>\n",
       "      <td>5152000030</td>\n",
       "      <td>546000245</td>\n",
       "    </tr>\n",
       "    <tr>\n",
       "      <th>date</th>\n",
       "      <td>20140528T000000</td>\n",
       "      <td>20150203T000000</td>\n",
       "      <td>20140924T000000</td>\n",
       "      <td>20141217T000000</td>\n",
       "      <td>20141231T000000</td>\n",
       "      <td>20141211T000000</td>\n",
       "      <td>20140603T000000</td>\n",
       "      <td>20150107T000000</td>\n",
       "      <td>20150204T000000</td>\n",
       "      <td>20140716T000000</td>\n",
       "    </tr>\n",
       "    <tr>\n",
       "      <th>price</th>\n",
       "      <td>550000.0</td>\n",
       "      <td>427500.0</td>\n",
       "      <td>400000.0</td>\n",
       "      <td>490000.0</td>\n",
       "      <td>689000.0</td>\n",
       "      <td>476500.0</td>\n",
       "      <td>550000.0</td>\n",
       "      <td>937500.0</td>\n",
       "      <td>305000.0</td>\n",
       "      <td>549900.0</td>\n",
       "    </tr>\n",
       "    <tr>\n",
       "      <th>bedrooms</th>\n",
       "      <td>4</td>\n",
       "      <td>4</td>\n",
       "      <td>4</td>\n",
       "      <td>3</td>\n",
       "      <td>4</td>\n",
       "      <td>4</td>\n",
       "      <td>4</td>\n",
       "      <td>4</td>\n",
       "      <td>5</td>\n",
       "      <td>3</td>\n",
       "    </tr>\n",
       "    <tr>\n",
       "      <th>bathrooms</th>\n",
       "      <td>1.0</td>\n",
       "      <td>2.5</td>\n",
       "      <td>2.5</td>\n",
       "      <td>2.5</td>\n",
       "      <td>2.8</td>\n",
       "      <td>1.8</td>\n",
       "      <td>2.5</td>\n",
       "      <td>4.0</td>\n",
       "      <td>2.5</td>\n",
       "      <td>1.5</td>\n",
       "    </tr>\n",
       "    <tr>\n",
       "      <th>sqft_living</th>\n",
       "      <td>1660</td>\n",
       "      <td>2010</td>\n",
       "      <td>2170</td>\n",
       "      <td>1890</td>\n",
       "      <td>3250</td>\n",
       "      <td>1670</td>\n",
       "      <td>2170</td>\n",
       "      <td>5545</td>\n",
       "      <td>2500</td>\n",
       "      <td>1380</td>\n",
       "    </tr>\n",
       "    <tr>\n",
       "      <th>sqft_lot</th>\n",
       "      <td>34848</td>\n",
       "      <td>6294</td>\n",
       "      <td>204296</td>\n",
       "      <td>10190</td>\n",
       "      <td>10000</td>\n",
       "      <td>10200</td>\n",
       "      <td>9600</td>\n",
       "      <td>871200</td>\n",
       "      <td>12220</td>\n",
       "      <td>3031</td>\n",
       "    </tr>\n",
       "    <tr>\n",
       "      <th>floors</th>\n",
       "      <td>1.0</td>\n",
       "      <td>2.0</td>\n",
       "      <td>1.0</td>\n",
       "      <td>2.0</td>\n",
       "      <td>2.0</td>\n",
       "      <td>1.0</td>\n",
       "      <td>1.0</td>\n",
       "      <td>2.0</td>\n",
       "      <td>1.0</td>\n",
       "      <td>1.5</td>\n",
       "    </tr>\n",
       "    <tr>\n",
       "      <th>waterfront</th>\n",
       "      <td>0</td>\n",
       "      <td>0</td>\n",
       "      <td>0</td>\n",
       "      <td>0</td>\n",
       "      <td>0</td>\n",
       "      <td>0</td>\n",
       "      <td>0</td>\n",
       "      <td>0</td>\n",
       "      <td>0</td>\n",
       "      <td>0</td>\n",
       "    </tr>\n",
       "    <tr>\n",
       "      <th>view</th>\n",
       "      <td>0</td>\n",
       "      <td>0</td>\n",
       "      <td>0</td>\n",
       "      <td>0</td>\n",
       "      <td>0</td>\n",
       "      <td>0</td>\n",
       "      <td>0</td>\n",
       "      <td>0</td>\n",
       "      <td>0</td>\n",
       "      <td>0</td>\n",
       "    </tr>\n",
       "    <tr>\n",
       "      <th>condition</th>\n",
       "      <td>1</td>\n",
       "      <td>3</td>\n",
       "      <td>4</td>\n",
       "      <td>3</td>\n",
       "      <td>3</td>\n",
       "      <td>3</td>\n",
       "      <td>3</td>\n",
       "      <td>3</td>\n",
       "      <td>3</td>\n",
       "      <td>4</td>\n",
       "    </tr>\n",
       "    <tr>\n",
       "      <th>grade</th>\n",
       "      <td>5</td>\n",
       "      <td>7</td>\n",
       "      <td>7</td>\n",
       "      <td>8</td>\n",
       "      <td>9</td>\n",
       "      <td>7</td>\n",
       "      <td>7</td>\n",
       "      <td>11</td>\n",
       "      <td>8</td>\n",
       "      <td>7</td>\n",
       "    </tr>\n",
       "    <tr>\n",
       "      <th>sqft_above</th>\n",
       "      <td>930.0</td>\n",
       "      <td>2010.0</td>\n",
       "      <td>2170.0</td>\n",
       "      <td>1890.0</td>\n",
       "      <td>3250.0</td>\n",
       "      <td>1390.0</td>\n",
       "      <td>1460.0</td>\n",
       "      <td>3605.0</td>\n",
       "      <td>1690.0</td>\n",
       "      <td>1380.0</td>\n",
       "    </tr>\n",
       "    <tr>\n",
       "      <th>sqft_basement</th>\n",
       "      <td>730</td>\n",
       "      <td>0</td>\n",
       "      <td>0</td>\n",
       "      <td>0</td>\n",
       "      <td>0</td>\n",
       "      <td>280</td>\n",
       "      <td>710</td>\n",
       "      <td>1940</td>\n",
       "      <td>810</td>\n",
       "      <td>0</td>\n",
       "    </tr>\n",
       "    <tr>\n",
       "      <th>yr_built</th>\n",
       "      <td>1933</td>\n",
       "      <td>2000</td>\n",
       "      <td>1980</td>\n",
       "      <td>1986</td>\n",
       "      <td>2014</td>\n",
       "      <td>1953</td>\n",
       "      <td>1980</td>\n",
       "      <td>2003</td>\n",
       "      <td>1962</td>\n",
       "      <td>1929</td>\n",
       "    </tr>\n",
       "    <tr>\n",
       "      <th>yr_renovated</th>\n",
       "      <td>0</td>\n",
       "      <td>0</td>\n",
       "      <td>0</td>\n",
       "      <td>0</td>\n",
       "      <td>0</td>\n",
       "      <td>0</td>\n",
       "      <td>0</td>\n",
       "      <td>0</td>\n",
       "      <td>0</td>\n",
       "      <td>0</td>\n",
       "    </tr>\n",
       "    <tr>\n",
       "      <th>zipcode</th>\n",
       "      <td>98052</td>\n",
       "      <td>98028</td>\n",
       "      <td>98022</td>\n",
       "      <td>98074</td>\n",
       "      <td>98155</td>\n",
       "      <td>98118</td>\n",
       "      <td>98052</td>\n",
       "      <td>98014</td>\n",
       "      <td>98003</td>\n",
       "      <td>98117</td>\n",
       "    </tr>\n",
       "    <tr>\n",
       "      <th>lat</th>\n",
       "      <td>47.7</td>\n",
       "      <td>47.8</td>\n",
       "      <td>47.3</td>\n",
       "      <td>47.6</td>\n",
       "      <td>47.8</td>\n",
       "      <td>47.6</td>\n",
       "      <td>47.7</td>\n",
       "      <td>47.7</td>\n",
       "      <td>47.3</td>\n",
       "      <td>47.7</td>\n",
       "    </tr>\n",
       "    <tr>\n",
       "      <th>long</th>\n",
       "      <td>-122.1</td>\n",
       "      <td>-122.2</td>\n",
       "      <td>-121.9</td>\n",
       "      <td>-122.1</td>\n",
       "      <td>-122.3</td>\n",
       "      <td>-122.3</td>\n",
       "      <td>-122.1</td>\n",
       "      <td>-121.9</td>\n",
       "      <td>-122.3</td>\n",
       "      <td>-122.4</td>\n",
       "    </tr>\n",
       "    <tr>\n",
       "      <th>sqft_living15</th>\n",
       "      <td>2160</td>\n",
       "      <td>1870</td>\n",
       "      <td>1760</td>\n",
       "      <td>2080</td>\n",
       "      <td>1620</td>\n",
       "      <td>1720</td>\n",
       "      <td>1940</td>\n",
       "      <td>3420</td>\n",
       "      <td>2130</td>\n",
       "      <td>1440</td>\n",
       "    </tr>\n",
       "    <tr>\n",
       "      <th>sqft_lot15</th>\n",
       "      <td>11467</td>\n",
       "      <td>4394</td>\n",
       "      <td>154202</td>\n",
       "      <td>9794</td>\n",
       "      <td>10089</td>\n",
       "      <td>6860</td>\n",
       "      <td>8400</td>\n",
       "      <td>871200</td>\n",
       "      <td>12000</td>\n",
       "      <td>4005</td>\n",
       "    </tr>\n",
       "  </tbody>\n",
       "</table>\n",
       "</div>"
      ],
      "text/plain": [
       "                         36               13619            5734             3173             19607            8009             2940             9714             10869            18297\n",
       "id                  9435300030        253600180       2921079027       8651511220       4024100915       3723800097       1494300110        225079036       5152000030        546000245\n",
       "date           20140528T000000  20150203T000000  20140924T000000  20141217T000000  20141231T000000  20141211T000000  20140603T000000  20150107T000000  20150204T000000  20140716T000000\n",
       "price                 550000.0         427500.0         400000.0         490000.0         689000.0         476500.0         550000.0         937500.0         305000.0         549900.0\n",
       "bedrooms                     4                4                4                3                4                4                4                4                5                3\n",
       "bathrooms                  1.0              2.5              2.5              2.5              2.8              1.8              2.5              4.0              2.5              1.5\n",
       "sqft_living               1660             2010             2170             1890             3250             1670             2170             5545             2500             1380\n",
       "sqft_lot                 34848             6294           204296            10190            10000            10200             9600           871200            12220             3031\n",
       "floors                     1.0              2.0              1.0              2.0              2.0              1.0              1.0              2.0              1.0              1.5\n",
       "waterfront                   0                0                0                0                0                0                0                0                0                0\n",
       "view                         0                0                0                0                0                0                0                0                0                0\n",
       "condition                    1                3                4                3                3                3                3                3                3                4\n",
       "grade                        5                7                7                8                9                7                7               11                8                7\n",
       "sqft_above               930.0           2010.0           2170.0           1890.0           3250.0           1390.0           1460.0           3605.0           1690.0           1380.0\n",
       "sqft_basement              730                0                0                0                0              280              710             1940              810                0\n",
       "yr_built                  1933             2000             1980             1986             2014             1953             1980             2003             1962             1929\n",
       "yr_renovated                 0                0                0                0                0                0                0                0                0                0\n",
       "zipcode                  98052            98028            98022            98074            98155            98118            98052            98014            98003            98117\n",
       "lat                       47.7             47.8             47.3             47.6             47.8             47.6             47.7             47.7             47.3             47.7\n",
       "long                    -122.1           -122.2           -121.9           -122.1           -122.3           -122.3           -122.1           -121.9           -122.3           -122.4\n",
       "sqft_living15             2160             1870             1760             2080             1620             1720             1940             3420             2130             1440\n",
       "sqft_lot15               11467             4394           154202             9794            10089             6860             8400           871200            12000             4005"
      ]
     },
     "execution_count": 925,
     "metadata": {},
     "output_type": "execute_result"
    }
   ],
   "source": [
    "df_raw.sample(10).T"
   ]
  },
  {
   "cell_type": "markdown",
   "metadata": {},
   "source": [
    "# 2.0 TRANSFORM DATA"
   ]
  },
  {
   "cell_type": "code",
   "execution_count": 926,
   "metadata": {},
   "outputs": [],
   "source": [
    "df1 = df_raw.copy()"
   ]
  },
  {
   "cell_type": "markdown",
   "metadata": {},
   "source": [
    "## 2.1 Data description"
   ]
  },
  {
   "cell_type": "code",
   "execution_count": 927,
   "metadata": {},
   "outputs": [
    {
     "name": "stdout",
     "output_type": "stream",
     "text": [
      "Number of rows: 21613\n",
      "Number of columns: 21\n"
     ]
    }
   ],
   "source": [
    "# printing the number of rows and the number of columns with the format() method \n",
    "print('Number of rows: {}'.format(df1.shape[0]))\n",
    "print('Number of columns: {}'.format(df1.shape[1]))"
   ]
  },
  {
   "cell_type": "markdown",
   "metadata": {},
   "source": [
    "## 2.1 Data types"
   ]
  },
  {
   "cell_type": "code",
   "execution_count": 928,
   "metadata": {},
   "outputs": [
    {
     "data": {
      "text/plain": [
       "id                        int64\n",
       "date             datetime64[ns]\n",
       "price                   float64\n",
       "bedrooms                  int64\n",
       "bathrooms               float64\n",
       "sqft_living               int64\n",
       "sqft_lot                  int64\n",
       "floors                  float64\n",
       "waterfront                int64\n",
       "view                      int64\n",
       "condition                 int64\n",
       "grade                     int64\n",
       "sqft_above              float64\n",
       "sqft_basement             int64\n",
       "yr_built                  int64\n",
       "yr_renovated              int64\n",
       "zipcode                   int64\n",
       "lat                     float64\n",
       "long                    float64\n",
       "sqft_living15             int64\n",
       "sqft_lot15                int64\n",
       "dtype: object"
      ]
     },
     "execution_count": 928,
     "metadata": {},
     "output_type": "execute_result"
    }
   ],
   "source": [
    "# date is object\n",
    "# must change the date type\n",
    "df1['date'] = pd.to_datetime(df1['date'])\n",
    "df1.dtypes"
   ]
  },
  {
   "cell_type": "markdown",
   "metadata": {},
   "source": [
    "## 2.2 Check NA"
   ]
  },
  {
   "cell_type": "code",
   "execution_count": 929,
   "metadata": {},
   "outputs": [
    {
     "data": {
      "text/plain": [
       "sqft_above       2\n",
       "id               0\n",
       "grade            0\n",
       "sqft_living15    0\n",
       "long             0\n",
       "lat              0\n",
       "zipcode          0\n",
       "yr_renovated     0\n",
       "yr_built         0\n",
       "sqft_basement    0\n",
       "condition        0\n",
       "date             0\n",
       "view             0\n",
       "waterfront       0\n",
       "floors           0\n",
       "sqft_lot         0\n",
       "sqft_living      0\n",
       "bathrooms        0\n",
       "bedrooms         0\n",
       "price            0\n",
       "sqft_lot15       0\n",
       "dtype: int64"
      ]
     },
     "execution_count": 929,
     "metadata": {},
     "output_type": "execute_result"
    }
   ],
   "source": [
    "# there are 2 'NA' values in 'sqft_above' column\n",
    "df1.isna().sum().sort_values(ascending=False)"
   ]
  },
  {
   "cell_type": "markdown",
   "metadata": {},
   "source": [
    "## 2.4 Fillout NA"
   ]
  },
  {
   "cell_type": "code",
   "execution_count": 930,
   "metadata": {},
   "outputs": [
    {
     "data": {
      "text/html": [
       "<div>\n",
       "<style scoped>\n",
       "    .dataframe tbody tr th:only-of-type {\n",
       "        vertical-align: middle;\n",
       "    }\n",
       "\n",
       "    .dataframe tbody tr th {\n",
       "        vertical-align: top;\n",
       "    }\n",
       "\n",
       "    .dataframe thead th {\n",
       "        text-align: right;\n",
       "    }\n",
       "</style>\n",
       "<table border=\"1\" class=\"dataframe\">\n",
       "  <thead>\n",
       "    <tr style=\"text-align: right;\">\n",
       "      <th></th>\n",
       "      <th>id</th>\n",
       "      <th>date</th>\n",
       "      <th>price</th>\n",
       "      <th>bedrooms</th>\n",
       "      <th>bathrooms</th>\n",
       "      <th>sqft_living</th>\n",
       "      <th>sqft_lot</th>\n",
       "      <th>floors</th>\n",
       "      <th>waterfront</th>\n",
       "      <th>view</th>\n",
       "      <th>condition</th>\n",
       "      <th>grade</th>\n",
       "      <th>sqft_above</th>\n",
       "      <th>sqft_basement</th>\n",
       "      <th>yr_built</th>\n",
       "      <th>yr_renovated</th>\n",
       "      <th>zipcode</th>\n",
       "      <th>lat</th>\n",
       "      <th>long</th>\n",
       "      <th>sqft_living15</th>\n",
       "      <th>sqft_lot15</th>\n",
       "    </tr>\n",
       "  </thead>\n",
       "  <tbody>\n",
       "    <tr>\n",
       "      <th>10</th>\n",
       "      <td>1736800520</td>\n",
       "      <td>2015-04-03</td>\n",
       "      <td>662500.0</td>\n",
       "      <td>3</td>\n",
       "      <td>2.5</td>\n",
       "      <td>3560</td>\n",
       "      <td>9796</td>\n",
       "      <td>1.0</td>\n",
       "      <td>0</td>\n",
       "      <td>0</td>\n",
       "      <td>3</td>\n",
       "      <td>8</td>\n",
       "      <td>NaN</td>\n",
       "      <td>1700</td>\n",
       "      <td>1965</td>\n",
       "      <td>0</td>\n",
       "      <td>98007</td>\n",
       "      <td>47.6</td>\n",
       "      <td>-122.1</td>\n",
       "      <td>2210</td>\n",
       "      <td>8925</td>\n",
       "    </tr>\n",
       "    <tr>\n",
       "      <th>17</th>\n",
       "      <td>6865200140</td>\n",
       "      <td>2014-05-29</td>\n",
       "      <td>485000.0</td>\n",
       "      <td>4</td>\n",
       "      <td>1.0</td>\n",
       "      <td>1600</td>\n",
       "      <td>4300</td>\n",
       "      <td>1.5</td>\n",
       "      <td>0</td>\n",
       "      <td>0</td>\n",
       "      <td>4</td>\n",
       "      <td>7</td>\n",
       "      <td>NaN</td>\n",
       "      <td>0</td>\n",
       "      <td>1916</td>\n",
       "      <td>0</td>\n",
       "      <td>98103</td>\n",
       "      <td>47.7</td>\n",
       "      <td>-122.3</td>\n",
       "      <td>1610</td>\n",
       "      <td>4300</td>\n",
       "    </tr>\n",
       "  </tbody>\n",
       "</table>\n",
       "</div>"
      ],
      "text/plain": [
       "            id       date    price  bedrooms  bathrooms  sqft_living  sqft_lot  floors  waterfront  view  condition  grade  sqft_above  sqft_basement  yr_built  yr_renovated  zipcode  lat   long  sqft_living15  sqft_lot15\n",
       "10  1736800520 2015-04-03 662500.0         3        2.5         3560      9796     1.0           0     0          3      8         NaN           1700      1965             0    98007 47.6 -122.1           2210        8925\n",
       "17  6865200140 2014-05-29 485000.0         4        1.0         1600      4300     1.5           0     0          4      7         NaN              0      1916             0    98103 47.7 -122.3           1610        4300"
      ]
     },
     "metadata": {},
     "output_type": "display_data"
    }
   ],
   "source": [
    "NA_prop = df1[df1['sqft_above'].isna()]\n",
    "display(NA_prop)"
   ]
  },
  {
   "cell_type": "markdown",
   "metadata": {},
   "source": [
    "The sqft_above 'NA' data belongs to the properties in index 10 and 17"
   ]
  },
  {
   "cell_type": "markdown",
   "metadata": {},
   "source": [
    "Since the sqft_living value is the sum of sqft_basement and sqft_above, the 'NA' values can be filled.\n",
    "\n",
    "In this case, the math operation will be done for the entire column"
   ]
  },
  {
   "cell_type": "code",
   "execution_count": 931,
   "metadata": {},
   "outputs": [],
   "source": [
    "df1['sqft_above'] = df1['sqft_living'] - df1['sqft_basement']"
   ]
  },
  {
   "cell_type": "code",
   "execution_count": 932,
   "metadata": {},
   "outputs": [
    {
     "data": {
      "text/html": [
       "<div>\n",
       "<style scoped>\n",
       "    .dataframe tbody tr th:only-of-type {\n",
       "        vertical-align: middle;\n",
       "    }\n",
       "\n",
       "    .dataframe tbody tr th {\n",
       "        vertical-align: top;\n",
       "    }\n",
       "\n",
       "    .dataframe thead th {\n",
       "        text-align: right;\n",
       "    }\n",
       "</style>\n",
       "<table border=\"1\" class=\"dataframe\">\n",
       "  <thead>\n",
       "    <tr style=\"text-align: right;\">\n",
       "      <th></th>\n",
       "      <th>id</th>\n",
       "      <th>sqft_living</th>\n",
       "      <th>sqft_basement</th>\n",
       "      <th>sqft_above</th>\n",
       "    </tr>\n",
       "  </thead>\n",
       "  <tbody>\n",
       "    <tr>\n",
       "      <th>10</th>\n",
       "      <td>1736800520</td>\n",
       "      <td>3560</td>\n",
       "      <td>1700</td>\n",
       "      <td>1860</td>\n",
       "    </tr>\n",
       "    <tr>\n",
       "      <th>17</th>\n",
       "      <td>6865200140</td>\n",
       "      <td>1600</td>\n",
       "      <td>0</td>\n",
       "      <td>1600</td>\n",
       "    </tr>\n",
       "  </tbody>\n",
       "</table>\n",
       "</div>"
      ],
      "text/plain": [
       "            id  sqft_living  sqft_basement  sqft_above\n",
       "10  1736800520         3560           1700        1860\n",
       "17  6865200140         1600              0        1600"
      ]
     },
     "execution_count": 932,
     "metadata": {},
     "output_type": "execute_result"
    }
   ],
   "source": [
    "# check the if the 'NA' values were filled with the correct values\n",
    "df1[['id','sqft_living','sqft_basement','sqft_above']].iloc[[10,17]]"
   ]
  },
  {
   "cell_type": "markdown",
   "metadata": {},
   "source": [
    "## 2.5 Descriptive statistical"
   ]
  },
  {
   "cell_type": "markdown",
   "metadata": {},
   "source": [
    "- Central tendency: average, median\n",
    "- Dispersion: variance, standard deviation, amplitude\n",
    "\n",
    "This analysis will be made for the whole data, dividing it into numerical and categorical attributes"
   ]
  },
  {
   "cell_type": "code",
   "execution_count": 933,
   "metadata": {},
   "outputs": [],
   "source": [
    "attributes = df1.select_dtypes(exclude=['datetime'])"
   ]
  },
  {
   "cell_type": "code",
   "execution_count": 934,
   "metadata": {},
   "outputs": [
    {
     "data": {
      "text/html": [
       "<div>\n",
       "<style scoped>\n",
       "    .dataframe tbody tr th:only-of-type {\n",
       "        vertical-align: middle;\n",
       "    }\n",
       "\n",
       "    .dataframe tbody tr th {\n",
       "        vertical-align: top;\n",
       "    }\n",
       "\n",
       "    .dataframe thead th {\n",
       "        text-align: right;\n",
       "    }\n",
       "</style>\n",
       "<table border=\"1\" class=\"dataframe\">\n",
       "  <thead>\n",
       "    <tr style=\"text-align: right;\">\n",
       "      <th></th>\n",
       "      <th>attributes</th>\n",
       "      <th>mean</th>\n",
       "      <th>median</th>\n",
       "      <th>std</th>\n",
       "      <th>skew</th>\n",
       "      <th>kurtosis</th>\n",
       "      <th>min</th>\n",
       "      <th>max</th>\n",
       "      <th>range</th>\n",
       "    </tr>\n",
       "  </thead>\n",
       "  <tbody>\n",
       "    <tr>\n",
       "      <th>0</th>\n",
       "      <td>id</td>\n",
       "      <td>4580301520.9</td>\n",
       "      <td>3904930410.0</td>\n",
       "      <td>2876565571.3</td>\n",
       "      <td>0.2</td>\n",
       "      <td>-1.3</td>\n",
       "      <td>1000102.0</td>\n",
       "      <td>9900000190.0</td>\n",
       "      <td>9899000088.0</td>\n",
       "    </tr>\n",
       "    <tr>\n",
       "      <th>1</th>\n",
       "      <td>price</td>\n",
       "      <td>540088.1</td>\n",
       "      <td>450000.0</td>\n",
       "      <td>367127.2</td>\n",
       "      <td>4.0</td>\n",
       "      <td>34.6</td>\n",
       "      <td>75000.0</td>\n",
       "      <td>7700000.0</td>\n",
       "      <td>7625000.0</td>\n",
       "    </tr>\n",
       "    <tr>\n",
       "      <th>2</th>\n",
       "      <td>bedrooms</td>\n",
       "      <td>3.4</td>\n",
       "      <td>3.0</td>\n",
       "      <td>0.9</td>\n",
       "      <td>2.0</td>\n",
       "      <td>49.1</td>\n",
       "      <td>0.0</td>\n",
       "      <td>33.0</td>\n",
       "      <td>33.0</td>\n",
       "    </tr>\n",
       "    <tr>\n",
       "      <th>3</th>\n",
       "      <td>bathrooms</td>\n",
       "      <td>2.1</td>\n",
       "      <td>2.2</td>\n",
       "      <td>0.8</td>\n",
       "      <td>0.5</td>\n",
       "      <td>1.3</td>\n",
       "      <td>0.0</td>\n",
       "      <td>8.0</td>\n",
       "      <td>8.0</td>\n",
       "    </tr>\n",
       "    <tr>\n",
       "      <th>4</th>\n",
       "      <td>sqft_living</td>\n",
       "      <td>2079.9</td>\n",
       "      <td>1910.0</td>\n",
       "      <td>918.4</td>\n",
       "      <td>1.5</td>\n",
       "      <td>5.2</td>\n",
       "      <td>290.0</td>\n",
       "      <td>13540.0</td>\n",
       "      <td>13250.0</td>\n",
       "    </tr>\n",
       "    <tr>\n",
       "      <th>5</th>\n",
       "      <td>sqft_lot</td>\n",
       "      <td>15107.0</td>\n",
       "      <td>7618.0</td>\n",
       "      <td>41420.5</td>\n",
       "      <td>13.1</td>\n",
       "      <td>285.1</td>\n",
       "      <td>520.0</td>\n",
       "      <td>1651359.0</td>\n",
       "      <td>1650839.0</td>\n",
       "    </tr>\n",
       "    <tr>\n",
       "      <th>6</th>\n",
       "      <td>floors</td>\n",
       "      <td>1.5</td>\n",
       "      <td>1.5</td>\n",
       "      <td>0.5</td>\n",
       "      <td>0.6</td>\n",
       "      <td>-0.5</td>\n",
       "      <td>1.0</td>\n",
       "      <td>3.5</td>\n",
       "      <td>2.5</td>\n",
       "    </tr>\n",
       "    <tr>\n",
       "      <th>7</th>\n",
       "      <td>waterfront</td>\n",
       "      <td>0.0</td>\n",
       "      <td>0.0</td>\n",
       "      <td>0.1</td>\n",
       "      <td>11.4</td>\n",
       "      <td>127.6</td>\n",
       "      <td>0.0</td>\n",
       "      <td>1.0</td>\n",
       "      <td>1.0</td>\n",
       "    </tr>\n",
       "    <tr>\n",
       "      <th>8</th>\n",
       "      <td>view</td>\n",
       "      <td>0.2</td>\n",
       "      <td>0.0</td>\n",
       "      <td>0.8</td>\n",
       "      <td>3.4</td>\n",
       "      <td>10.9</td>\n",
       "      <td>0.0</td>\n",
       "      <td>4.0</td>\n",
       "      <td>4.0</td>\n",
       "    </tr>\n",
       "    <tr>\n",
       "      <th>9</th>\n",
       "      <td>condition</td>\n",
       "      <td>3.4</td>\n",
       "      <td>3.0</td>\n",
       "      <td>0.7</td>\n",
       "      <td>1.0</td>\n",
       "      <td>0.5</td>\n",
       "      <td>1.0</td>\n",
       "      <td>5.0</td>\n",
       "      <td>4.0</td>\n",
       "    </tr>\n",
       "    <tr>\n",
       "      <th>10</th>\n",
       "      <td>grade</td>\n",
       "      <td>7.7</td>\n",
       "      <td>7.0</td>\n",
       "      <td>1.2</td>\n",
       "      <td>0.8</td>\n",
       "      <td>1.2</td>\n",
       "      <td>1.0</td>\n",
       "      <td>13.0</td>\n",
       "      <td>12.0</td>\n",
       "    </tr>\n",
       "    <tr>\n",
       "      <th>11</th>\n",
       "      <td>sqft_above</td>\n",
       "      <td>1788.4</td>\n",
       "      <td>1560.0</td>\n",
       "      <td>828.1</td>\n",
       "      <td>1.4</td>\n",
       "      <td>3.4</td>\n",
       "      <td>290.0</td>\n",
       "      <td>9410.0</td>\n",
       "      <td>9120.0</td>\n",
       "    </tr>\n",
       "    <tr>\n",
       "      <th>12</th>\n",
       "      <td>sqft_basement</td>\n",
       "      <td>291.5</td>\n",
       "      <td>0.0</td>\n",
       "      <td>442.6</td>\n",
       "      <td>1.6</td>\n",
       "      <td>2.7</td>\n",
       "      <td>0.0</td>\n",
       "      <td>4820.0</td>\n",
       "      <td>4820.0</td>\n",
       "    </tr>\n",
       "    <tr>\n",
       "      <th>13</th>\n",
       "      <td>yr_built</td>\n",
       "      <td>1971.0</td>\n",
       "      <td>1975.0</td>\n",
       "      <td>29.4</td>\n",
       "      <td>-0.5</td>\n",
       "      <td>-0.7</td>\n",
       "      <td>1900.0</td>\n",
       "      <td>2015.0</td>\n",
       "      <td>115.0</td>\n",
       "    </tr>\n",
       "    <tr>\n",
       "      <th>14</th>\n",
       "      <td>yr_renovated</td>\n",
       "      <td>84.4</td>\n",
       "      <td>0.0</td>\n",
       "      <td>401.7</td>\n",
       "      <td>4.5</td>\n",
       "      <td>18.7</td>\n",
       "      <td>0.0</td>\n",
       "      <td>2015.0</td>\n",
       "      <td>2015.0</td>\n",
       "    </tr>\n",
       "    <tr>\n",
       "      <th>15</th>\n",
       "      <td>zipcode</td>\n",
       "      <td>98077.9</td>\n",
       "      <td>98065.0</td>\n",
       "      <td>53.5</td>\n",
       "      <td>0.4</td>\n",
       "      <td>-0.9</td>\n",
       "      <td>98001.0</td>\n",
       "      <td>98199.0</td>\n",
       "      <td>198.0</td>\n",
       "    </tr>\n",
       "    <tr>\n",
       "      <th>16</th>\n",
       "      <td>lat</td>\n",
       "      <td>47.6</td>\n",
       "      <td>47.6</td>\n",
       "      <td>0.1</td>\n",
       "      <td>-0.5</td>\n",
       "      <td>-0.7</td>\n",
       "      <td>47.2</td>\n",
       "      <td>47.8</td>\n",
       "      <td>0.6</td>\n",
       "    </tr>\n",
       "    <tr>\n",
       "      <th>17</th>\n",
       "      <td>long</td>\n",
       "      <td>-122.2</td>\n",
       "      <td>-122.2</td>\n",
       "      <td>0.1</td>\n",
       "      <td>0.9</td>\n",
       "      <td>1.0</td>\n",
       "      <td>-122.5</td>\n",
       "      <td>-121.3</td>\n",
       "      <td>1.2</td>\n",
       "    </tr>\n",
       "    <tr>\n",
       "      <th>18</th>\n",
       "      <td>sqft_living15</td>\n",
       "      <td>1986.6</td>\n",
       "      <td>1840.0</td>\n",
       "      <td>685.4</td>\n",
       "      <td>1.1</td>\n",
       "      <td>1.6</td>\n",
       "      <td>399.0</td>\n",
       "      <td>6210.0</td>\n",
       "      <td>5811.0</td>\n",
       "    </tr>\n",
       "    <tr>\n",
       "      <th>19</th>\n",
       "      <td>sqft_lot15</td>\n",
       "      <td>12768.5</td>\n",
       "      <td>7620.0</td>\n",
       "      <td>27304.2</td>\n",
       "      <td>9.5</td>\n",
       "      <td>150.8</td>\n",
       "      <td>651.0</td>\n",
       "      <td>871200.0</td>\n",
       "      <td>870549.0</td>\n",
       "    </tr>\n",
       "  </tbody>\n",
       "</table>\n",
       "</div>"
      ],
      "text/plain": [
       "       attributes         mean       median          std  skew  kurtosis       min          max        range\n",
       "0              id 4580301520.9 3904930410.0 2876565571.3   0.2      -1.3 1000102.0 9900000190.0 9899000088.0\n",
       "1           price     540088.1     450000.0     367127.2   4.0      34.6   75000.0    7700000.0    7625000.0\n",
       "2        bedrooms          3.4          3.0          0.9   2.0      49.1       0.0         33.0         33.0\n",
       "3       bathrooms          2.1          2.2          0.8   0.5       1.3       0.0          8.0          8.0\n",
       "4     sqft_living       2079.9       1910.0        918.4   1.5       5.2     290.0      13540.0      13250.0\n",
       "5        sqft_lot      15107.0       7618.0      41420.5  13.1     285.1     520.0    1651359.0    1650839.0\n",
       "6          floors          1.5          1.5          0.5   0.6      -0.5       1.0          3.5          2.5\n",
       "7      waterfront          0.0          0.0          0.1  11.4     127.6       0.0          1.0          1.0\n",
       "8            view          0.2          0.0          0.8   3.4      10.9       0.0          4.0          4.0\n",
       "9       condition          3.4          3.0          0.7   1.0       0.5       1.0          5.0          4.0\n",
       "10          grade          7.7          7.0          1.2   0.8       1.2       1.0         13.0         12.0\n",
       "11     sqft_above       1788.4       1560.0        828.1   1.4       3.4     290.0       9410.0       9120.0\n",
       "12  sqft_basement        291.5          0.0        442.6   1.6       2.7       0.0       4820.0       4820.0\n",
       "13       yr_built       1971.0       1975.0         29.4  -0.5      -0.7    1900.0       2015.0        115.0\n",
       "14   yr_renovated         84.4          0.0        401.7   4.5      18.7       0.0       2015.0       2015.0\n",
       "15        zipcode      98077.9      98065.0         53.5   0.4      -0.9   98001.0      98199.0        198.0\n",
       "16            lat         47.6         47.6          0.1  -0.5      -0.7      47.2         47.8          0.6\n",
       "17           long       -122.2       -122.2          0.1   0.9       1.0    -122.5       -121.3          1.2\n",
       "18  sqft_living15       1986.6       1840.0        685.4   1.1       1.6     399.0       6210.0       5811.0\n",
       "19     sqft_lot15      12768.5       7620.0      27304.2   9.5     150.8     651.0     871200.0     870549.0"
      ]
     },
     "execution_count": 934,
     "metadata": {},
     "output_type": "execute_result"
    }
   ],
   "source": [
    "pd.set_option('display.float_format', lambda x: '%.1f' % x)\n",
    "\n",
    "range_metric = pd.DataFrame(attributes.apply(lambda x: x.max()-x.min()).T.reset_index())\n",
    "range_metric.columns = ['attributes','range']\n",
    "\n",
    "\n",
    "metrics = attributes.agg(['mean','median','std','skew','kurtosis','min','max']).T.reset_index()\n",
    "metrics.columns = ['attributes','mean','median','std','skew','kurtosis','min','max']\n",
    "metrics = pd.merge(metrics, range_metric,how='inner',on='attributes')\n",
    "metrics"
   ]
  },
  {
   "cell_type": "markdown",
   "metadata": {},
   "source": [
    "The table above gives an idea of the tendency and dispersion of data\n",
    "\n",
    "Some points:\n",
    "- Minimum number of bathrooms and bedrooms is 0\n",
    "- Range of number of bedrooms is 33\n"
   ]
  },
  {
   "cell_type": "code",
   "execution_count": 935,
   "metadata": {},
   "outputs": [
    {
     "data": {
      "image/png": "[encoded data removed]",
      "text/plain": [
       "<Figure size 648x360 with 2 Axes>"
      ]
     },
     "metadata": {},
     "output_type": "display_data"
    }
   ],
   "source": [
    "# bedrooms and bathrooms quantity boxplot\n",
    "fig = plt.figure(figsize=(9,5))\n",
    "\n",
    "specs = gridspec.GridSpec(nrows=1,ncols=2, figure=fig)\n",
    "\n",
    "ax1 = fig.add_subplot(specs[0,0])\n",
    "ax2 = fig.add_subplot(specs[0,1])\n",
    "\n",
    "\n",
    "sns.boxplot(y=attributes['bedrooms'], ax=ax1);\n",
    "sns.boxplot(y=attributes['bathrooms'], ax=ax2);"
   ]
  },
  {
   "cell_type": "code",
   "execution_count": 936,
   "metadata": {},
   "outputs": [
    {
     "data": {
      "text/html": [
       "<div>\n",
       "<style scoped>\n",
       "    .dataframe tbody tr th:only-of-type {\n",
       "        vertical-align: middle;\n",
       "    }\n",
       "\n",
       "    .dataframe tbody tr th {\n",
       "        vertical-align: top;\n",
       "    }\n",
       "\n",
       "    .dataframe thead th {\n",
       "        text-align: right;\n",
       "    }\n",
       "</style>\n",
       "<table border=\"1\" class=\"dataframe\">\n",
       "  <thead>\n",
       "    <tr style=\"text-align: right;\">\n",
       "      <th></th>\n",
       "      <th>id</th>\n",
       "      <th>bedrooms</th>\n",
       "      <th>bathrooms</th>\n",
       "      <th>sqft_living</th>\n",
       "    </tr>\n",
       "  </thead>\n",
       "  <tbody>\n",
       "    <tr>\n",
       "      <th>875</th>\n",
       "      <td>6306400140</td>\n",
       "      <td>0</td>\n",
       "      <td>0.0</td>\n",
       "      <td>3064</td>\n",
       "    </tr>\n",
       "    <tr>\n",
       "      <th>1149</th>\n",
       "      <td>3421079032</td>\n",
       "      <td>1</td>\n",
       "      <td>0.0</td>\n",
       "      <td>670</td>\n",
       "    </tr>\n",
       "    <tr>\n",
       "      <th>3119</th>\n",
       "      <td>3918400017</td>\n",
       "      <td>0</td>\n",
       "      <td>0.0</td>\n",
       "      <td>1470</td>\n",
       "    </tr>\n",
       "    <tr>\n",
       "      <th>3467</th>\n",
       "      <td>1453602309</td>\n",
       "      <td>0</td>\n",
       "      <td>1.5</td>\n",
       "      <td>1430</td>\n",
       "    </tr>\n",
       "    <tr>\n",
       "      <th>4868</th>\n",
       "      <td>6896300380</td>\n",
       "      <td>0</td>\n",
       "      <td>1.0</td>\n",
       "      <td>390</td>\n",
       "    </tr>\n",
       "    <tr>\n",
       "      <th>5832</th>\n",
       "      <td>5702500050</td>\n",
       "      <td>1</td>\n",
       "      <td>0.0</td>\n",
       "      <td>600</td>\n",
       "    </tr>\n",
       "    <tr>\n",
       "      <th>6994</th>\n",
       "      <td>2954400190</td>\n",
       "      <td>0</td>\n",
       "      <td>0.0</td>\n",
       "      <td>4810</td>\n",
       "    </tr>\n",
       "    <tr>\n",
       "      <th>8477</th>\n",
       "      <td>2569500210</td>\n",
       "      <td>0</td>\n",
       "      <td>2.5</td>\n",
       "      <td>2290</td>\n",
       "    </tr>\n",
       "    <tr>\n",
       "      <th>8484</th>\n",
       "      <td>2310060040</td>\n",
       "      <td>0</td>\n",
       "      <td>2.5</td>\n",
       "      <td>1810</td>\n",
       "    </tr>\n",
       "    <tr>\n",
       "      <th>9773</th>\n",
       "      <td>3374500520</td>\n",
       "      <td>0</td>\n",
       "      <td>0.0</td>\n",
       "      <td>2460</td>\n",
       "    </tr>\n",
       "    <tr>\n",
       "      <th>9854</th>\n",
       "      <td>7849202190</td>\n",
       "      <td>0</td>\n",
       "      <td>0.0</td>\n",
       "      <td>1470</td>\n",
       "    </tr>\n",
       "    <tr>\n",
       "      <th>10481</th>\n",
       "      <td>203100435</td>\n",
       "      <td>1</td>\n",
       "      <td>0.0</td>\n",
       "      <td>690</td>\n",
       "    </tr>\n",
       "    <tr>\n",
       "      <th>12653</th>\n",
       "      <td>7849202299</td>\n",
       "      <td>0</td>\n",
       "      <td>2.5</td>\n",
       "      <td>1490</td>\n",
       "    </tr>\n",
       "    <tr>\n",
       "      <th>14423</th>\n",
       "      <td>9543000205</td>\n",
       "      <td>0</td>\n",
       "      <td>0.0</td>\n",
       "      <td>844</td>\n",
       "    </tr>\n",
       "    <tr>\n",
       "      <th>18379</th>\n",
       "      <td>1222029077</td>\n",
       "      <td>0</td>\n",
       "      <td>0.8</td>\n",
       "      <td>384</td>\n",
       "    </tr>\n",
       "    <tr>\n",
       "      <th>19452</th>\n",
       "      <td>3980300371</td>\n",
       "      <td>0</td>\n",
       "      <td>0.0</td>\n",
       "      <td>290</td>\n",
       "    </tr>\n",
       "  </tbody>\n",
       "</table>\n",
       "</div>"
      ],
      "text/plain": [
       "               id  bedrooms  bathrooms  sqft_living\n",
       "875    6306400140         0        0.0         3064\n",
       "1149   3421079032         1        0.0          670\n",
       "3119   3918400017         0        0.0         1470\n",
       "3467   1453602309         0        1.5         1430\n",
       "4868   6896300380         0        1.0          390\n",
       "5832   5702500050         1        0.0          600\n",
       "6994   2954400190         0        0.0         4810\n",
       "8477   2569500210         0        2.5         2290\n",
       "8484   2310060040         0        2.5         1810\n",
       "9773   3374500520         0        0.0         2460\n",
       "9854   7849202190         0        0.0         1470\n",
       "10481   203100435         1        0.0          690\n",
       "12653  7849202299         0        2.5         1490\n",
       "14423  9543000205         0        0.0          844\n",
       "18379  1222029077         0        0.8          384\n",
       "19452  3980300371         0        0.0          290"
      ]
     },
     "execution_count": 936,
     "metadata": {},
     "output_type": "execute_result"
    }
   ],
   "source": [
    "# check the data with 0 as number of bedrooms and bathrooms\n",
    "\n",
    "df1[(df1['bedrooms']==0) | (df1['bathrooms']==0)][['id','bedrooms','bathrooms','sqft_living']]"
   ]
  },
  {
   "cell_type": "markdown",
   "metadata": {},
   "source": [
    "As an assumption of this project, the data above will be considered outlier"
   ]
  },
  {
   "cell_type": "code",
   "execution_count": 937,
   "metadata": {},
   "outputs": [],
   "source": [
    "# filtering properties with the number of bedrooms or bathrooms greater than 0 \n",
    "df1 = df1[(df1['bedrooms']!=0) | (df1['bathrooms'] != 0)]"
   ]
  },
  {
   "cell_type": "markdown",
   "metadata": {},
   "source": [
    "The data of number of rooms must be proportional to the value of the living area. Thus, it can be a hint of whether or not the high number of bedrooms are data with typo "
   ]
  },
  {
   "cell_type": "code",
   "execution_count": 938,
   "metadata": {},
   "outputs": [
    {
     "data": {
      "image/png": "[encoded data removed]",
      "text/plain": [
       "<Figure size 864x576 with 1 Axes>"
      ]
     },
     "metadata": {},
     "output_type": "display_data"
    }
   ],
   "source": [
    "# plotting number bedrooms > 5 (outlier points) x living area\n",
    "plt.figure(figsize=(12,8))\n",
    "sns.boxplot(x = df1['bedrooms'], y = df1['sqft_living']);"
   ]
  },
  {
   "cell_type": "markdown",
   "metadata": {},
   "source": [
    "Since the property with 33 bedrooms doesn't tend to have a bigger living area, it will be considered an outlier as well"
   ]
  },
  {
   "cell_type": "code",
   "execution_count": 939,
   "metadata": {},
   "outputs": [
    {
     "data": {
      "text/plain": [
       "15870    33\n",
       "Name: bedrooms, dtype: int64"
      ]
     },
     "execution_count": 939,
     "metadata": {},
     "output_type": "execute_result"
    }
   ],
   "source": [
    "# checking \n",
    "df1.loc[df1['bedrooms']==33,'bedrooms'] "
   ]
  },
  {
   "cell_type": "code",
   "execution_count": 940,
   "metadata": {},
   "outputs": [],
   "source": [
    "# replacing the value of bedrooms = 33 by the median of bedrooms data\n",
    "\n",
    "df1.loc[df1['bedrooms']==33,'bedrooms'] = df1['bedrooms'].median()"
   ]
  },
  {
   "cell_type": "markdown",
   "metadata": {},
   "source": [
    "## 2.6 Features"
   ]
  },
  {
   "cell_type": "markdown",
   "metadata": {},
   "source": [
    "In this section, all features are created based on hypotheses validation and the business scenario solving."
   ]
  },
  {
   "cell_type": "code",
   "execution_count": 941,
   "metadata": {},
   "outputs": [],
   "source": [
    "# Date features\n",
    "\n",
    "# month-day column\n",
    "df1['month-day'] = df1['date'].dt.strftime('%m-%d')\n",
    "\n",
    "# Year seasons\n",
    "df1['season_year'] = df1['month-day'].apply(lambda x: 'summer' if x >= '06-21' and x < '09-22' else     \n",
    "                                                      'fall' if x >= '09-22' and x < '12-21' else \n",
    "                                                      'spring' if x >= '03-20' and x < '06-20' else\n",
    "                                                      'winter')\n",
    "\n",
    "# year column\n",
    "df1['year'] = df1['date'].dt.year\n",
    "\n",
    "# month column\n",
    "df1['month'] = df1['date'].dt.strftime('%Y-%m')\n",
    " "
   ]
  },
  {
   "cell_type": "code",
   "execution_count": 942,
   "metadata": {},
   "outputs": [],
   "source": [
    "# Numeric features\n",
    " \n",
    "# median price of the region\n",
    "price_reg_grouped = df1[['price','zipcode']].groupby('zipcode').median().reset_index()\n",
    "m1 = df1.merge(price_reg_grouped, on=['zipcode'], validate='many_to_one', how='inner')\n",
    "\n",
    "# median price of region by season\n",
    "price_regssn_grouped = m1[['price_x','season_year', 'zipcode']].groupby(['zipcode','season_year']).median().reset_index()\n",
    "m2 = m1.merge(price_regssn_grouped, on=['zipcode','season_year'],validate= 'many_to_one', how='inner')\n",
    "\n",
    "\n",
    "m2.columns = ['id', 'date', 'price', 'bedrooms', 'bathrooms', 'sqft_living',\n",
    "       'sqft_lot', 'floors', 'waterfront', 'view', 'condition', 'grade',\n",
    "       'sqft_above', 'sqft_basement', 'yr_built', 'yr_renovated', 'zipcode',\n",
    "       'lat', 'long', 'sqft_living15', 'sqft_lot15', 'month-day',\n",
    "       'season_year', 'year', 'month', 'median_price', 'median_s_price']\n",
    "\n",
    "\n",
    "\n",
    "df1 = m2.copy()\n",
    "\n",
    "# sqft_living - sqft_living15 \n",
    "df1['sqft_diff15_num'] = df1.apply(lambda x: x['sqft_living'] - x['sqft_living15'], axis = 1)\n"
   ]
  },
  {
   "cell_type": "code",
   "execution_count": 943,
   "metadata": {},
   "outputs": [],
   "source": [
    "# Categoric features\n",
    "\n",
    "# sqft_living - sqft_living15 (True if the difference is negative. False if the difference is positive)\n",
    "df1['sqft_diff15_cat'] = df1.apply(lambda x: True if x['sqft_diff15_num'] < 0 else False, axis = 1)\n",
    "\n",
    "\n",
    "# yr_built prior to 1955 (0: built prior to 1955 | 1: built after 1955)\n",
    "df1['built_prior_1955'] = df1['yr_built'].apply(lambda x: '< 1955' if x < 1955 else '> 1955')\n",
    "\n",
    "# properties with/without basement column\n",
    "df1['has_basement'] = df1['sqft_basement'].apply(lambda x: 'with basement' if x > 0 else 'without basement')\n",
    "\n",
    "# properties with 3 bathrooms or more (yes: number of bathrooms >= 3, no: < 3)\n",
    "df1['bathrooms3'] = df1['bathrooms'].apply(lambda x: '>= 3' if x >= 3 else '< 3')\n",
    "\n",
    "# properties renovated after 2005\n",
    "df1['renovated_after_2005'] = df1['yr_renovated'].apply(lambda x:  '< 2005' if x < 2005 else \n",
    "                                                                   'never renovated' if x == 0 else '> 2005')\n",
    "                                                            \n",
    "# renovation space (0: no space, 1: has space)\n",
    "df1['renovation_space'] = df1.apply(lambda x: x['sqft_lot']-x['sqft_living'], axis=1)\n"
   ]
  },
  {
   "cell_type": "markdown",
   "metadata": {},
   "source": [
    "# 3.0 EXPLORATORY DATA ANALYSIS"
   ]
  },
  {
   "cell_type": "markdown",
   "metadata": {},
   "source": [
    "All the hypothesis descriptived in section 0.2 will be validated or refutade in this section"
   ]
  },
  {
   "cell_type": "code",
   "execution_count": 944,
   "metadata": {},
   "outputs": [],
   "source": [
    "df2 = df1.copy()"
   ]
  },
  {
   "cell_type": "markdown",
   "metadata": {},
   "source": [
    "## 3.1 Hypotheses"
   ]
  },
  {
   "cell_type": "markdown",
   "metadata": {},
   "source": [
    "### H1. Waterfront properties  are 20% more expansive, on average."
   ]
  },
  {
   "cell_type": "markdown",
   "metadata": {},
   "source": [
    "**True**"
   ]
  },
  {
   "cell_type": "code",
   "execution_count": 945,
   "metadata": {},
   "outputs": [
    {
     "data": {
      "image/png": "[encoded data removed]",
      "text/plain": [
       "<Figure size 720x432 with 1 Axes>"
      ]
     },
     "metadata": {},
     "output_type": "display_data"
    },
    {
     "name": "stdout",
     "output_type": "stream",
     "text": [
      "Waterfront properties are 212.64% more expansive, on average\n"
     ]
    }
   ],
   "source": [
    "# creating the mean measures in a dataframe\n",
    "aux = df2[['price','waterfront']].groupby('waterfront').mean().reset_index()\n",
    "\n",
    "# plotting the barplot\n",
    "plt.figure(figsize=(10,6))\n",
    "fig = sns.barplot(x= aux['waterfront'], y= aux['price'], ci=None);\n",
    "fig.bar_label(container = fig.containers[0],fmt=\"%.2f\")\n",
    "fig.set(title='Mean Prices of Properties With / Without Waterfront ')\n",
    "plt.show()\n",
    "\n",
    "# creating the percentage measure\n",
    "measure = (((aux.loc[1,'price'])/(aux.loc[0,'price']))-1)*100\n",
    "\n",
    "print('Waterfront properties are {}% more expansive, on average'.format(round(measure,2)))\n"
   ]
  },
  {
   "cell_type": "markdown",
   "metadata": {},
   "source": [
    "### H2. Properties with built year prior to 1955 are 50% cheaper, on average.\n"
   ]
  },
  {
   "cell_type": "markdown",
   "metadata": {},
   "source": [
    "**False**"
   ]
  },
  {
   "cell_type": "code",
   "execution_count": 946,
   "metadata": {},
   "outputs": [
    {
     "data": {
      "image/png": "[encoded data removed]",
      "text/plain": [
       "<Figure size 720x432 with 1 Axes>"
      ]
     },
     "metadata": {},
     "output_type": "display_data"
    },
    {
     "name": "stdout",
     "output_type": "stream",
     "text": [
      "Properties that were built prior to 1955 are 0.77% cheaper, on average\n"
     ]
    }
   ],
   "source": [
    "# creating the mean measures in a dataframe\n",
    "aux = df2[['price','built_prior_1955']].groupby('built_prior_1955').mean().reset_index()\n",
    "\n",
    "# plotting the barplot\n",
    "plt.figure(figsize=(10,6))\n",
    "fig = sns.barplot(x= aux['built_prior_1955'], y= aux['price'], estimator=np.mean, ci=None);\n",
    "fig.bar_label(container = fig.containers[0],fmt=\"%.2f\")\n",
    "fig.set(title='Mean Prices of Properties Built Before and After 1955')\n",
    "fig.set_ylim([500000,550000])\n",
    "plt.show()\n",
    "\n",
    "# creating the percentage measure\n",
    "measure = (1-(aux.loc[0,'price'])/(aux.loc[1,'price']))*100\n",
    "\n",
    "print('Properties that were built prior to 1955 are {}% cheaper, on average'.format(round(measure,2)))"
   ]
  },
  {
   "cell_type": "markdown",
   "metadata": {},
   "source": [
    "### H3. Properties without a basement are 40% bigger than the properties with basement.\n"
   ]
  },
  {
   "cell_type": "markdown",
   "metadata": {},
   "source": [
    "**False**"
   ]
  },
  {
   "cell_type": "code",
   "execution_count": 947,
   "metadata": {},
   "outputs": [
    {
     "data": {
      "image/png": "[encoded data removed]",
      "text/plain": [
       "<Figure size 720x432 with 1 Axes>"
      ]
     },
     "metadata": {},
     "output_type": "display_data"
    },
    {
     "name": "stdout",
     "output_type": "stream",
     "text": [
      "Properties are 22.59% bigger, on average\n"
     ]
    }
   ],
   "source": [
    "# creating the mean measures in a dataframe\n",
    "aux = df2[['has_basement','sqft_lot']].groupby('has_basement').mean().reset_index()\n",
    "\n",
    "# plotting the barplot\n",
    "plt.figure(figsize=(10,6))\n",
    "fig = sns.barplot(x= aux['has_basement'], y= aux['sqft_lot'], ci=None);\n",
    "fig.bar_label(container = fig.containers[0],fmt=\"%.2f\")\n",
    "fig.set(title='Mean Prices of Properties With / Without Basement')\n",
    "plt.show()\n",
    "\n",
    "# creating the percentage measure\n",
    "measure = ((aux.loc[1,'sqft_lot'])/(aux.loc[0,'sqft_lot'])-1)*100\n",
    "\n",
    "print('Properties are {}% bigger, on average'.format(round(measure,2)))"
   ]
  },
  {
   "cell_type": "markdown",
   "metadata": {},
   "source": [
    "### H4. The YoY (Year over Year) price is increasing in 10%."
   ]
  },
  {
   "cell_type": "markdown",
   "metadata": {},
   "source": [
    "**False**"
   ]
  },
  {
   "cell_type": "code",
   "execution_count": 948,
   "metadata": {},
   "outputs": [
    {
     "data": {
      "image/png": "[encoded data removed]",
      "text/plain": [
       "<Figure size 720x432 with 1 Axes>"
      ]
     },
     "metadata": {},
     "output_type": "display_data"
    }
   ],
   "source": [
    "# creating a mean measure in a dataframe\n",
    "aux = df2[['year','price']].groupby('year').mean().reset_index()\n",
    "\n",
    "# creating a percentage change column using .pct_change() function\n",
    "aux['YoY'] = aux['price'].pct_change()\n",
    "\n",
    "# plotting the barplot\n",
    "plt.figure(figsize=(10,6))\n",
    "fig = sns.barplot(x= aux['year'], y= aux['YoY']*100, estimator=np.mean, ci=None);\n",
    "fig.bar_label(container = fig.containers[0],fmt=\"%.3f%%\")\n",
    "fig.set(title='2015 Percentage Growth Price Over 2014')\n",
    "plt.show()"
   ]
  },
  {
   "cell_type": "markdown",
   "metadata": {},
   "source": [
    "\n",
    "### H5. Properties with 3 bathrooms or more have a MoM (Month over Month) price increasing in 15%, on average.\n"
   ]
  },
  {
   "cell_type": "markdown",
   "metadata": {},
   "source": [
    "**False**. The MoM price has never reached 15% since the beggining of the data time. Thus, the average MoM increasing price is 1.66%, on average.\n",
    "- Max MoM percentage: 13.3%\n",
    "\n"
   ]
  },
  {
   "cell_type": "code",
   "execution_count": 949,
   "metadata": {},
   "outputs": [
    {
     "data": {
      "image/png": "[encoded data removed]",
      "text/plain": [
       "<Figure size 720x432 with 1 Axes>"
      ]
     },
     "metadata": {},
     "output_type": "display_data"
    },
    {
     "name": "stdout",
     "output_type": "stream",
     "text": [
      "This properties price are increasing 1.66%, on average\n"
     ]
    }
   ],
   "source": [
    "# creating a mean measure in a dataframe\n",
    "aux = df2[df2['bathrooms3'] == '>= 3'][['bathrooms3','month','price']].groupby('month').mean().reset_index()\n",
    "\n",
    "# creating a percentage change column using .pct_change() function\n",
    "aux['MoM'] = aux['price'].pct_change()*100\n",
    "\n",
    "\n",
    "plt.figure(figsize=(10,6))\n",
    "fig = sns.lineplot(x= aux['month'], y= aux['MoM'], markers='O', color='#965786')\n",
    "fig.set(title='MoM percentage of properties prices with 3 or more bathrooms');\n",
    "\n",
    "# label points on the plot\n",
    "for x, y in zip(aux['month'][1:], aux['MoM'][1:]):\n",
    " # the position of the data label relative to the data point can be adjusted by adding/subtracting a value from the x &/ y coordinates\n",
    " plt.text(x = x, # x-coordinate position of data label\n",
    " y = y+1, # y-coordinate position of data label, adjusted to be 150 below the data point\n",
    " s = '{:.1f}%'.format(y), # data label, formatted to ignore decimals\n",
    " color = 'white').set_backgroundcolor('#965786') # set colour of line\n",
    "\n",
    "\n",
    "plt.show()\n",
    "\n",
    "# creating the percentage measure\n",
    "measure = aux['MoM'].mean()\n",
    "print('This properties price are increasing {}%, on average'.format(round(measure,2)))\n"
   ]
  },
  {
   "cell_type": "markdown",
   "metadata": {},
   "source": [
    "### H6. Properties sell 20% more in summer than in winter.\n",
    "\n"
   ]
  },
  {
   "cell_type": "markdown",
   "metadata": {},
   "source": [
    "**True**"
   ]
  },
  {
   "cell_type": "code",
   "execution_count": 950,
   "metadata": {},
   "outputs": [
    {
     "data": {
      "image/png": "[encoded data removed]",
      "text/plain": [
       "<Figure size 720x432 with 1 Axes>"
      ]
     },
     "metadata": {},
     "output_type": "display_data"
    },
    {
     "name": "stdout",
     "output_type": "stream",
     "text": [
      "Properties sell 60.4% more, in summer than in winter\n"
     ]
    }
   ],
   "source": [
    "# creating a mean measure in a dataframe\n",
    "aux = df2[['id','season_year']].groupby('season_year').count().reset_index()\n",
    "\n",
    "# plotting the barplot\n",
    "plt.figure(figsize=(10,6))\n",
    "fig = sns.barplot(x= aux['season_year'], y= aux['id'], ci=None);\n",
    "fig.bar_label(container = fig.containers[0],fmt=\"%d\")\n",
    "fig.set(title='Count of Properties Sold on Each Season of the Year')\n",
    "fig.set_ylim([0,7500])\n",
    "plt.show()\n",
    "\n",
    "# creating the percentage measure\n",
    "measure = ((aux.loc[2,'id'])/(aux.loc[3,'id'])-1)*100\n",
    "\n",
    "print('Properties sell {}% more, in summer than in winter'.format(round(measure,2)))\n"
   ]
  },
  {
   "cell_type": "markdown",
   "metadata": {},
   "source": [
    "### H7. In the winter, properties prices tend to be 20% lower than in summer, on average.\n"
   ]
  },
  {
   "cell_type": "markdown",
   "metadata": {},
   "source": [
    "**False**"
   ]
  },
  {
   "cell_type": "code",
   "execution_count": 951,
   "metadata": {},
   "outputs": [
    {
     "data": {
      "image/png": "[encoded data removed]",
      "text/plain": [
       "<Figure size 720x432 with 1 Axes>"
      ]
     },
     "metadata": {},
     "output_type": "display_data"
    },
    {
     "name": "stdout",
     "output_type": "stream",
     "text": [
      "Properties prices are 2.93% lower, in winter than in summer\n"
     ]
    }
   ],
   "source": [
    "# creating a mean measure in a dataframe\n",
    "aux = df2[['price','season_year']].groupby('season_year').mean().reset_index()\n",
    "\n",
    "# plotting the barplot\n",
    "plt.figure(figsize=(10,6))\n",
    "fig = sns.barplot(x= aux['season_year'], y= aux['price'], ci=None);\n",
    "fig.bar_label(container = fig.containers[0],fmt=\"%.2f\")\n",
    "fig.set(title='Mean Price of Properties on Each Season of the Year')\n",
    "fig.set_ylim([350000,580000])\n",
    "plt.show()\n",
    "\n",
    "# creating the percentage measure\n",
    "measure = (1-(aux.loc[3,'price'])/(aux.loc[2,'price']))*100\n",
    "\n",
    "print('Properties prices are {}% lower, in winter than in summer'.format(round(measure,2)))"
   ]
  },
  {
   "cell_type": "markdown",
   "metadata": {},
   "source": [
    "### H8. The number of bedrooms and bathrooms of a property has more effect on price than its total living area "
   ]
  },
  {
   "cell_type": "markdown",
   "metadata": {},
   "source": [
    "**False** "
   ]
  },
  {
   "cell_type": "code",
   "execution_count": 952,
   "metadata": {},
   "outputs": [
    {
     "data": {
      "image/png": "[encoded data removed]",
      "text/plain": [
       "<Figure size 720x432 with 2 Axes>"
      ]
     },
     "metadata": {},
     "output_type": "display_data"
    }
   ],
   "source": [
    "# creating the correlation dataframe\n",
    "correl = df2[['price','sqft_living','bedrooms','bathrooms']].corr()\n",
    "\n",
    "# plotting the correlation in a heatmap\n",
    "plt.figure(figsize=(10,6))\n",
    "fig = sns.heatmap(correl, annot=True);\n",
    "fig.set(title = 'Heatmap of Properties Features');"
   ]
  },
  {
   "cell_type": "markdown",
   "metadata": {},
   "source": [
    "The total living area of the property has more influence on its price than the number of rooms.\n",
    "\n",
    "- The properties living area have a correlation of 0.7 with the price.\n",
    "- Number of bedrooms and bathrooms have 0.32 and 0.53 of correlation with the properties prices, respectively.\n",
    "- Number of bathrooms has more influence on the living area than the number of bedrooms."
   ]
  },
  {
   "cell_type": "markdown",
   "metadata": {},
   "source": [
    "### H9. Properties renovated after 2005 have their prices higher than the properties which were renovated before 2005 or than have never been renovated, on average."
   ]
  },
  {
   "cell_type": "markdown",
   "metadata": {},
   "source": [
    "**True**. On average, properties that were renovated after 2005 have higher prices."
   ]
  },
  {
   "cell_type": "code",
   "execution_count": 953,
   "metadata": {},
   "outputs": [
    {
     "data": {
      "image/png": "[encoded data removed]",
      "text/plain": [
       "<Figure size 720x432 with 1 Axes>"
      ]
     },
     "metadata": {},
     "output_type": "display_data"
    }
   ],
   "source": [
    "# creating the mean measures in a dataframe\n",
    "aux = df2[['renovated_after_2005','price']].groupby('renovated_after_2005').mean().reset_index()\n",
    "aux.head(10)\n",
    "\n",
    "# plotting the barplot\n",
    "plt.figure(figsize=(10,6))\n",
    "fig = sns.barplot(x= aux['renovated_after_2005'], y= aux['price'], ci=None);\n",
    "fig.bar_label(container = fig.containers[0],fmt=\"%.2f\")\n",
    "fig.set(title='Average Prices for Properties that were Renovated After / Before 2005')\n",
    "plt.show()"
   ]
  },
  {
   "cell_type": "markdown",
   "metadata": {},
   "source": [
    "### H10. Properties that have their total living area smaller than the 15 closest properties are cheaper, on average."
   ]
  },
  {
   "cell_type": "markdown",
   "metadata": {},
   "source": [
    "**True**"
   ]
  },
  {
   "cell_type": "code",
   "execution_count": 954,
   "metadata": {},
   "outputs": [
    {
     "data": {
      "image/png": "[encoded data removed]",
      "text/plain": [
       "<Figure size 720x432 with 1 Axes>"
      ]
     },
     "metadata": {},
     "output_type": "display_data"
    }
   ],
   "source": [
    "# creating the mean measures in a dataframe\n",
    "aux = df2[['sqft_diff15_cat','price']].groupby('sqft_diff15_cat').mean().reset_index()\n",
    "\n",
    "# plotting the barplot\n",
    "plt.figure(figsize=(10,6))\n",
    "fig = sns.barplot(data=aux, x='sqft_diff15_cat', y='price')\n",
    "fig.set(title='Average Prices for Properties with Living Area Smaller / Bigger than the 15 Closest')\n",
    "fig.bar_label(container = fig.containers[0],fmt=\"%.2f\")\n",
    "fig.set_ylim([100000,700000])\n",
    "plt.xticks([True, False], ['smaler','bigger'])\n",
    "plt.show()"
   ]
  },
  {
   "cell_type": "markdown",
   "metadata": {},
   "source": [
    "## 3.2 Business Scenario"
   ]
  },
  {
   "cell_type": "code",
   "execution_count": 955,
   "metadata": {},
   "outputs": [],
   "source": [
    "df3 = df2.copy()"
   ]
  },
  {
   "cell_type": "markdown",
   "metadata": {},
   "source": [
    "### 1. The House Rocket's CEO wants to know which houses the company shall buy and their prices."
   ]
  },
  {
   "cell_type": "markdown",
   "metadata": {},
   "source": [
    "- It will be suggested that properties that have their prices lower than the median price of the region **and** are in good conditions be bought."
   ]
  },
  {
   "cell_type": "markdown",
   "metadata": {},
   "source": [
    "1. Data are grouped by region and the median prices are calculated. **(Section 2.6)**\n",
    "\n",
    "2. Create condition: \n",
    "    - Properties which have their prices lower than the median price of their own region **and** are in good conditions (above 3) shall be bought\n",
    "    - The ones with prices higher than the median of their region aren't buying recomendations"
   ]
  },
  {
   "cell_type": "code",
   "execution_count": 956,
   "metadata": {},
   "outputs": [],
   "source": [
    "# picking columns\n",
    "df3 = df3[['id','zipcode','price', 'season_year','median_price', 'median_s_price','condition','sqft_diff15_num','sqft_lot','sqft_living']]\n",
    "\n",
    "# creating status column\n",
    "df3['status'] = df3.apply(lambda x: 'buy' if x['price'] < x['median_price'] and x['condition'] >= 3 else 'do not buy' ,axis = 1)"
   ]
  },
  {
   "cell_type": "code",
   "execution_count": 957,
   "metadata": {},
   "outputs": [
    {
     "data": {
      "text/html": [
       "<div>\n",
       "<style scoped>\n",
       "    .dataframe tbody tr th:only-of-type {\n",
       "        vertical-align: middle;\n",
       "    }\n",
       "\n",
       "    .dataframe tbody tr th {\n",
       "        vertical-align: top;\n",
       "    }\n",
       "\n",
       "    .dataframe thead th {\n",
       "        text-align: right;\n",
       "    }\n",
       "</style>\n",
       "<table border=\"1\" class=\"dataframe\">\n",
       "  <thead>\n",
       "    <tr style=\"text-align: right;\">\n",
       "      <th></th>\n",
       "      <th>0</th>\n",
       "      <th>1</th>\n",
       "      <th>2</th>\n",
       "      <th>3</th>\n",
       "      <th>4</th>\n",
       "      <th>5</th>\n",
       "      <th>6</th>\n",
       "      <th>7</th>\n",
       "      <th>8</th>\n",
       "      <th>9</th>\n",
       "    </tr>\n",
       "  </thead>\n",
       "  <tbody>\n",
       "    <tr>\n",
       "      <th>id</th>\n",
       "      <td>7129300520.0</td>\n",
       "      <td>2976800796.0</td>\n",
       "      <td>3352402236.0</td>\n",
       "      <td>1180002378.0</td>\n",
       "      <td>1180500070.0</td>\n",
       "      <td>179000350.0</td>\n",
       "      <td>7878400135.0</td>\n",
       "      <td>7887200390.0</td>\n",
       "      <td>179003055.0</td>\n",
       "      <td>8073000495.0</td>\n",
       "    </tr>\n",
       "    <tr>\n",
       "      <th>zipcode</th>\n",
       "      <td>98178.0</td>\n",
       "      <td>98178.0</td>\n",
       "      <td>98178.0</td>\n",
       "      <td>98178.0</td>\n",
       "      <td>98178.0</td>\n",
       "      <td>98178.0</td>\n",
       "      <td>98178.0</td>\n",
       "      <td>98178.0</td>\n",
       "      <td>98178.0</td>\n",
       "      <td>98178.0</td>\n",
       "    </tr>\n",
       "    <tr>\n",
       "      <th>price</th>\n",
       "      <td>221900.0</td>\n",
       "      <td>236000.0</td>\n",
       "      <td>252500.0</td>\n",
       "      <td>299000.0</td>\n",
       "      <td>335000.0</td>\n",
       "      <td>194000.0</td>\n",
       "      <td>355000.0</td>\n",
       "      <td>294000.0</td>\n",
       "      <td>210000.0</td>\n",
       "      <td>700000.0</td>\n",
       "    </tr>\n",
       "    <tr>\n",
       "      <th>median_price</th>\n",
       "      <td>278277.0</td>\n",
       "      <td>278277.0</td>\n",
       "      <td>278277.0</td>\n",
       "      <td>278277.0</td>\n",
       "      <td>278277.0</td>\n",
       "      <td>278277.0</td>\n",
       "      <td>278277.0</td>\n",
       "      <td>278277.0</td>\n",
       "      <td>278277.0</td>\n",
       "      <td>278277.0</td>\n",
       "    </tr>\n",
       "    <tr>\n",
       "      <th>condition</th>\n",
       "      <td>3.0</td>\n",
       "      <td>3.0</td>\n",
       "      <td>5.0</td>\n",
       "      <td>3.0</td>\n",
       "      <td>3.0</td>\n",
       "      <td>3.0</td>\n",
       "      <td>3.0</td>\n",
       "      <td>3.0</td>\n",
       "      <td>3.0</td>\n",
       "      <td>3.0</td>\n",
       "    </tr>\n",
       "  </tbody>\n",
       "</table>\n",
       "</div>"
      ],
      "text/plain": [
       "                        0            1            2            3            4           5            6            7           8            9\n",
       "id           7129300520.0 2976800796.0 3352402236.0 1180002378.0 1180500070.0 179000350.0 7878400135.0 7887200390.0 179003055.0 8073000495.0\n",
       "zipcode           98178.0      98178.0      98178.0      98178.0      98178.0     98178.0      98178.0      98178.0     98178.0      98178.0\n",
       "price            221900.0     236000.0     252500.0     299000.0     335000.0    194000.0     355000.0     294000.0    210000.0     700000.0\n",
       "median_price     278277.0     278277.0     278277.0     278277.0     278277.0    278277.0     278277.0     278277.0    278277.0     278277.0\n",
       "condition             3.0          3.0          5.0          3.0          3.0         3.0          3.0          3.0         3.0          3.0"
      ]
     },
     "execution_count": 957,
     "metadata": {},
     "output_type": "execute_result"
    }
   ],
   "source": [
    "tb1 = df3[['id','zipcode','price','median_price', 'condition']].copy()\n",
    "tb1.head(10).T"
   ]
  },
  {
   "cell_type": "markdown",
   "metadata": {},
   "source": [
    "### 2. The CEO also wants to know when the company shall sell the properties suggested and for what price"
   ]
  },
  {
   "cell_type": "markdown",
   "metadata": {},
   "source": [
    "- It will be suggested that properties with prices lower than the median price of their region **and** season that were priced, be sold with 30% increasing, while the ones with higher prices be sold with a 10% price increasing\n",
    "\n",
    "- As seen ealier on section 3.1, in hypothesis 5 and 6, properties sell more in Spring and also are more expansive. In view of this condition, the sale price recommended is a minimum requirement "
   ]
  },
  {
   "cell_type": "markdown",
   "metadata": {},
   "source": [
    "1. Data are grouped by region **and** season. The median prices are calculated. **(Section 2.6)**\n",
    "\n",
    "2. Create condition: \n",
    "    - Properties which have their prices lower than the median price of their own region and season, shall be sold with a 30% increasing on their prices\n",
    "    - The ones with prices higher than the median of their region and season shall be sold with a 10% increasing on their prices"
   ]
  },
  {
   "cell_type": "code",
   "execution_count": 958,
   "metadata": {},
   "outputs": [],
   "source": [
    "# filtering properties suggested\n",
    "df3 = df3[df3['status'] == 'buy'].copy().reset_index()\n",
    "\n",
    "# sell price column\n",
    "df3['sale_price'] = df3.apply(lambda x: 1.3*x['price'] if x['price'] > x['median_s_price'] else 1.1*x['price'], axis=1)\n",
    "\n",
    "# profit column\n",
    "df3['profit'] = df3.apply(lambda x: x['sale_price'] - x['price'], axis=1)\n",
    "\n"
   ]
  },
  {
   "cell_type": "code",
   "execution_count": 959,
   "metadata": {},
   "outputs": [
    {
     "data": {
      "text/html": [
       "<div>\n",
       "<style scoped>\n",
       "    .dataframe tbody tr th:only-of-type {\n",
       "        vertical-align: middle;\n",
       "    }\n",
       "\n",
       "    .dataframe tbody tr th {\n",
       "        vertical-align: top;\n",
       "    }\n",
       "\n",
       "    .dataframe thead th {\n",
       "        text-align: right;\n",
       "    }\n",
       "</style>\n",
       "<table border=\"1\" class=\"dataframe\">\n",
       "  <thead>\n",
       "    <tr style=\"text-align: right;\">\n",
       "      <th></th>\n",
       "      <th>0</th>\n",
       "      <th>1</th>\n",
       "      <th>2</th>\n",
       "      <th>3</th>\n",
       "      <th>4</th>\n",
       "      <th>5</th>\n",
       "      <th>6</th>\n",
       "      <th>7</th>\n",
       "      <th>8</th>\n",
       "      <th>9</th>\n",
       "    </tr>\n",
       "  </thead>\n",
       "  <tbody>\n",
       "    <tr>\n",
       "      <th>id</th>\n",
       "      <td>7129300520</td>\n",
       "      <td>2976800796</td>\n",
       "      <td>3352402236</td>\n",
       "      <td>179000350</td>\n",
       "      <td>179003055</td>\n",
       "      <td>3352402250</td>\n",
       "      <td>399000195</td>\n",
       "      <td>2328800130</td>\n",
       "      <td>7129300420</td>\n",
       "      <td>185000161</td>\n",
       "    </tr>\n",
       "    <tr>\n",
       "      <th>zipcode</th>\n",
       "      <td>98178</td>\n",
       "      <td>98178</td>\n",
       "      <td>98178</td>\n",
       "      <td>98178</td>\n",
       "      <td>98178</td>\n",
       "      <td>98178</td>\n",
       "      <td>98178</td>\n",
       "      <td>98178</td>\n",
       "      <td>98178</td>\n",
       "      <td>98178</td>\n",
       "    </tr>\n",
       "    <tr>\n",
       "      <th>season_year</th>\n",
       "      <td>fall</td>\n",
       "      <td>fall</td>\n",
       "      <td>fall</td>\n",
       "      <td>fall</td>\n",
       "      <td>fall</td>\n",
       "      <td>fall</td>\n",
       "      <td>fall</td>\n",
       "      <td>fall</td>\n",
       "      <td>fall</td>\n",
       "      <td>fall</td>\n",
       "    </tr>\n",
       "    <tr>\n",
       "      <th>median_s_price</th>\n",
       "      <td>284000.0</td>\n",
       "      <td>284000.0</td>\n",
       "      <td>284000.0</td>\n",
       "      <td>284000.0</td>\n",
       "      <td>284000.0</td>\n",
       "      <td>284000.0</td>\n",
       "      <td>284000.0</td>\n",
       "      <td>284000.0</td>\n",
       "      <td>284000.0</td>\n",
       "      <td>284000.0</td>\n",
       "    </tr>\n",
       "    <tr>\n",
       "      <th>price</th>\n",
       "      <td>221900.0</td>\n",
       "      <td>236000.0</td>\n",
       "      <td>252500.0</td>\n",
       "      <td>194000.0</td>\n",
       "      <td>210000.0</td>\n",
       "      <td>119900.0</td>\n",
       "      <td>200000.0</td>\n",
       "      <td>220000.0</td>\n",
       "      <td>258000.0</td>\n",
       "      <td>261000.0</td>\n",
       "    </tr>\n",
       "    <tr>\n",
       "      <th>sale_price</th>\n",
       "      <td>244090.0</td>\n",
       "      <td>259600.0</td>\n",
       "      <td>277750.0</td>\n",
       "      <td>213400.0</td>\n",
       "      <td>231000.0</td>\n",
       "      <td>131890.0</td>\n",
       "      <td>220000.0</td>\n",
       "      <td>242000.0</td>\n",
       "      <td>283800.0</td>\n",
       "      <td>287100.0</td>\n",
       "    </tr>\n",
       "    <tr>\n",
       "      <th>profit</th>\n",
       "      <td>22190.0</td>\n",
       "      <td>23600.0</td>\n",
       "      <td>25250.0</td>\n",
       "      <td>19400.0</td>\n",
       "      <td>21000.0</td>\n",
       "      <td>11990.0</td>\n",
       "      <td>20000.0</td>\n",
       "      <td>22000.0</td>\n",
       "      <td>25800.0</td>\n",
       "      <td>26100.0</td>\n",
       "    </tr>\n",
       "  </tbody>\n",
       "</table>\n",
       "</div>"
      ],
      "text/plain": [
       "                         0           1           2          3          4           5          6           7           8          9\n",
       "id              7129300520  2976800796  3352402236  179000350  179003055  3352402250  399000195  2328800130  7129300420  185000161\n",
       "zipcode              98178       98178       98178      98178      98178       98178      98178       98178       98178      98178\n",
       "season_year           fall        fall        fall       fall       fall        fall       fall        fall        fall       fall\n",
       "median_s_price    284000.0    284000.0    284000.0   284000.0   284000.0    284000.0   284000.0    284000.0    284000.0   284000.0\n",
       "price             221900.0    236000.0    252500.0   194000.0   210000.0    119900.0   200000.0    220000.0    258000.0   261000.0\n",
       "sale_price        244090.0    259600.0    277750.0   213400.0   231000.0    131890.0   220000.0    242000.0    283800.0   287100.0\n",
       "profit             22190.0     23600.0     25250.0    19400.0    21000.0     11990.0    20000.0     22000.0     25800.0    26100.0"
      ]
     },
     "execution_count": 959,
     "metadata": {},
     "output_type": "execute_result"
    }
   ],
   "source": [
    "tb2 = df3[['id','zipcode','season_year','median_s_price','price','sale_price','profit']].copy()\n",
    "tb2.head(10).T"
   ]
  },
  {
   "cell_type": "markdown",
   "metadata": {},
   "source": [
    "### 3. Should House Rocket do a house renovation to raise the sale price? What could be the renovation suggestions? How much is the price incresing for each renovation option?"
   ]
  },
  {
   "cell_type": "markdown",
   "metadata": {},
   "source": [
    "- As seen earlier on section 3.1, in hypothesis 9, properties which have been renovated since 2005 are more expansive than the one which have not.\n",
    "- In hypothesis 10, is showed that properties smaller than the 15 properties closest to them are cheaper, on average\n",
    "- The correlation seen in hypothesis 8 shows that:\n",
    "    - Total living area has the highest impact on price \n",
    "    - Number of bathrooms has more impact on price than number of bedrooms\n",
    "    - Low impact of number of bedrooms on price.\n",
    "#\n",
    "- In view of these facts, it will be suggested one option of renovation for properties with a smaller living area:\n",
    "    - Increase living area by the difference between living area and living area from the 15 closest properties. On condition that the new area doesn't exceed 25% of the original living area (This condition prevents prices from rising too high)\n",
    "\n",
    "\n",
    " "
   ]
  },
  {
   "cell_type": "markdown",
   "metadata": {},
   "source": [
    "1. Properties with renovation conditions are indicated by column renovation_space. Homes with no space for renovations are indicated with 0. **(Section 2.6)** \n",
    "2. Since the minimum space needs to be 80 square feet, create condition:\n",
    "\n",
    "    - If the property has its total living area smaller than the average size of the other 15 properties closest, then it will be suggested the option 1\n",
    "    - If the property is bigger than the average size of the other 15 closest properties, then it will be suggested the option 2\n",
    "#\n",
    "3. The price increasing will be:\n",
    "    - Option 1: Price + extra square feet price. (It is assumped that sqft_price includes the costs with the construction)\n",
    "    \n",
    " "
   ]
  },
  {
   "cell_type": "code",
   "execution_count": 960,
   "metadata": {},
   "outputs": [],
   "source": [
    "# defining which properties should be renovated\n",
    "df3['renovation'] = df3.apply(lambda x: 'yes' if (x['sqft_diff15_num'] < 0)  & ((x['sqft_lot']-x['sqft_living']) > 0) else 'no', axis= 1 )\n",
    "\n",
    "# defining renovation area in order to set the price increasing\n",
    "df3['renovation_area'] = df3.apply(lambda x: x['sqft_diff15_num']*(-1) if (x['renovation'] == 'yes') and (x['sqft_diff15_num']*(-1) <= 0.25*x['sqft_living']) else\n",
    "                                             0.25*x['sqft_living'] if (x['renovation'] == 'yes') and (x['sqft_diff15_num']*(-1) > 0.25*x['sqft_living']) else\n",
    "                                             0, axis=1 )\n",
    "\n",
    "# defining price increasing\n",
    "df3['sqft_price'] = df3.apply(lambda x: x['price']/x['sqft_living'], axis=1)\n",
    "df3['price_increasing'] = df3.apply(lambda x: x['sqft_price']*x['renovation_area'], axis=1)\n",
    "\n",
    "# defining new sale_price and profit\n",
    "df3['sale_price_renovated'] = df3.apply(lambda x: x['sale_price'] + x['price_increasing'], axis=1)\n",
    "df3['profit_renovated'] = df3.apply(lambda x: x['sale_price_renovated']-x['price'], axis=1)\n"
   ]
  },
  {
   "cell_type": "code",
   "execution_count": 963,
   "metadata": {},
   "outputs": [
    {
     "data": {
      "text/html": [
       "<div>\n",
       "<style scoped>\n",
       "    .dataframe tbody tr th:only-of-type {\n",
       "        vertical-align: middle;\n",
       "    }\n",
       "\n",
       "    .dataframe tbody tr th {\n",
       "        vertical-align: top;\n",
       "    }\n",
       "\n",
       "    .dataframe thead th {\n",
       "        text-align: right;\n",
       "    }\n",
       "</style>\n",
       "<table border=\"1\" class=\"dataframe\">\n",
       "  <thead>\n",
       "    <tr style=\"text-align: right;\">\n",
       "      <th></th>\n",
       "      <th>0</th>\n",
       "      <th>1</th>\n",
       "      <th>2</th>\n",
       "      <th>3</th>\n",
       "      <th>4</th>\n",
       "      <th>5</th>\n",
       "      <th>6</th>\n",
       "      <th>7</th>\n",
       "      <th>8</th>\n",
       "      <th>9</th>\n",
       "    </tr>\n",
       "  </thead>\n",
       "  <tbody>\n",
       "    <tr>\n",
       "      <th>id</th>\n",
       "      <td>7129300520</td>\n",
       "      <td>2976800796</td>\n",
       "      <td>3352402236</td>\n",
       "      <td>179000350</td>\n",
       "      <td>179003055</td>\n",
       "      <td>3352402250</td>\n",
       "      <td>399000195</td>\n",
       "      <td>2328800130</td>\n",
       "      <td>7129300420</td>\n",
       "      <td>185000161</td>\n",
       "    </tr>\n",
       "    <tr>\n",
       "      <th>zipcode</th>\n",
       "      <td>98178</td>\n",
       "      <td>98178</td>\n",
       "      <td>98178</td>\n",
       "      <td>98178</td>\n",
       "      <td>98178</td>\n",
       "      <td>98178</td>\n",
       "      <td>98178</td>\n",
       "      <td>98178</td>\n",
       "      <td>98178</td>\n",
       "      <td>98178</td>\n",
       "    </tr>\n",
       "    <tr>\n",
       "      <th>price</th>\n",
       "      <td>221900.0</td>\n",
       "      <td>236000.0</td>\n",
       "      <td>252500.0</td>\n",
       "      <td>194000.0</td>\n",
       "      <td>210000.0</td>\n",
       "      <td>119900.0</td>\n",
       "      <td>200000.0</td>\n",
       "      <td>220000.0</td>\n",
       "      <td>258000.0</td>\n",
       "      <td>261000.0</td>\n",
       "    </tr>\n",
       "    <tr>\n",
       "      <th>renovation</th>\n",
       "      <td>yes</td>\n",
       "      <td>yes</td>\n",
       "      <td>yes</td>\n",
       "      <td>no</td>\n",
       "      <td>no</td>\n",
       "      <td>yes</td>\n",
       "      <td>yes</td>\n",
       "      <td>yes</td>\n",
       "      <td>yes</td>\n",
       "      <td>no</td>\n",
       "    </tr>\n",
       "    <tr>\n",
       "      <th>sale_price</th>\n",
       "      <td>244090.0</td>\n",
       "      <td>259600.0</td>\n",
       "      <td>277750.0</td>\n",
       "      <td>213400.0</td>\n",
       "      <td>231000.0</td>\n",
       "      <td>131890.0</td>\n",
       "      <td>220000.0</td>\n",
       "      <td>242000.0</td>\n",
       "      <td>283800.0</td>\n",
       "      <td>287100.0</td>\n",
       "    </tr>\n",
       "    <tr>\n",
       "      <th>sale_price_renovated</th>\n",
       "      <td>274178.1</td>\n",
       "      <td>263230.8</td>\n",
       "      <td>340875.0</td>\n",
       "      <td>213400.0</td>\n",
       "      <td>231000.0</td>\n",
       "      <td>161865.0</td>\n",
       "      <td>270000.0</td>\n",
       "      <td>253578.9</td>\n",
       "      <td>345819.2</td>\n",
       "      <td>287100.0</td>\n",
       "    </tr>\n",
       "    <tr>\n",
       "      <th>profit</th>\n",
       "      <td>22190.0</td>\n",
       "      <td>23600.0</td>\n",
       "      <td>25250.0</td>\n",
       "      <td>19400.0</td>\n",
       "      <td>21000.0</td>\n",
       "      <td>11990.0</td>\n",
       "      <td>20000.0</td>\n",
       "      <td>22000.0</td>\n",
       "      <td>25800.0</td>\n",
       "      <td>26100.0</td>\n",
       "    </tr>\n",
       "    <tr>\n",
       "      <th>profit_renovated</th>\n",
       "      <td>52278.1</td>\n",
       "      <td>27230.8</td>\n",
       "      <td>88375.0</td>\n",
       "      <td>19400.0</td>\n",
       "      <td>21000.0</td>\n",
       "      <td>41965.0</td>\n",
       "      <td>70000.0</td>\n",
       "      <td>33578.9</td>\n",
       "      <td>87819.2</td>\n",
       "      <td>26100.0</td>\n",
       "    </tr>\n",
       "  </tbody>\n",
       "</table>\n",
       "</div>"
      ],
      "text/plain": [
       "                               0           1           2          3          4           5          6           7           8          9\n",
       "id                    7129300520  2976800796  3352402236  179000350  179003055  3352402250  399000195  2328800130  7129300420  185000161\n",
       "zipcode                    98178       98178       98178      98178      98178       98178      98178       98178       98178      98178\n",
       "price                   221900.0    236000.0    252500.0   194000.0   210000.0    119900.0   200000.0    220000.0    258000.0   261000.0\n",
       "renovation                   yes         yes         yes         no         no         yes        yes         yes         yes         no\n",
       "sale_price              244090.0    259600.0    277750.0   213400.0   231000.0    131890.0   220000.0    242000.0    283800.0   287100.0\n",
       "sale_price_renovated    274178.1    263230.8    340875.0   213400.0   231000.0    161865.0   270000.0    253578.9    345819.2   287100.0\n",
       "profit                   22190.0     23600.0     25250.0    19400.0    21000.0     11990.0    20000.0     22000.0     25800.0    26100.0\n",
       "profit_renovated         52278.1     27230.8     88375.0    19400.0    21000.0     41965.0    70000.0     33578.9     87819.2    26100.0"
      ]
     },
     "execution_count": 963,
     "metadata": {},
     "output_type": "execute_result"
    }
   ],
   "source": [
    "tb3 = df3[['id','zipcode','price','renovation','sale_price','sale_price_renovated','profit','profit_renovated']].copy()\n",
    "tb3.head(10).T"
   ]
  }
 ],
 "metadata": {
  "kernelspec": {
   "display_name": "Python 3.9.12 ('base')",
   "language": "python",
   "name": "python3"
  },
  "language_info": {
   "codemirror_mode": {
    "name": "ipython",
    "version": 3
   },
   "file_extension": ".py",
   "mimetype": "text/x-python",
   "name": "python",
   "nbconvert_exporter": "python",
   "pygments_lexer": "ipython3",
   "version": "3.9.12"
  },
  "orig_nbformat": 4,
  "vscode": {
   "interpreter": {
    "hash": "465bc43bf4cbae58c142e3527ff2b05702dd810bc8ebc4f627e0af6c067b87a4"
   }
  }
 },
 "nbformat": 4,
 "nbformat_minor": 2
}
